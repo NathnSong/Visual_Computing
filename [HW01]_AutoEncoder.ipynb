{
  "nbformat": 4,
  "nbformat_minor": 0,
  "metadata": {
    "colab": {
      "provenance": [],
      "gpuType": "T4",
      "include_colab_link": true
    },
    "kernelspec": {
      "name": "python3",
      "display_name": "Python 3"
    },
    "language_info": {
      "name": "python"
    },
    "accelerator": "GPU",
    "widgets": {
      "application/vnd.jupyter.widget-state+json": {
        "592342e15e454504a116b2917950d199": {
          "model_module": "@jupyter-widgets/controls",
          "model_name": "VBoxModel",
          "model_module_version": "1.5.0",
          "state": {
            "_dom_classes": [
              "widget-interact"
            ],
            "_model_module": "@jupyter-widgets/controls",
            "_model_module_version": "1.5.0",
            "_model_name": "VBoxModel",
            "_view_count": null,
            "_view_module": "@jupyter-widgets/controls",
            "_view_module_version": "1.5.0",
            "_view_name": "VBoxView",
            "box_style": "",
            "children": [
              "IPY_MODEL_a523b664e42b4a36b8ba5462d3886132",
              "IPY_MODEL_a419b1a120bc413d8725390f43cc5d25"
            ],
            "layout": "IPY_MODEL_db63dea9e4c046689a364bf4e9990f0a"
          }
        },
        "a523b664e42b4a36b8ba5462d3886132": {
          "model_module": "@jupyter-widgets/controls",
          "model_name": "IntSliderModel",
          "model_module_version": "1.5.0",
          "state": {
            "_dom_classes": [],
            "_model_module": "@jupyter-widgets/controls",
            "_model_module_version": "1.5.0",
            "_model_name": "IntSliderModel",
            "_view_count": null,
            "_view_module": "@jupyter-widgets/controls",
            "_view_module_version": "1.5.0",
            "_view_name": "IntSliderView",
            "continuous_update": false,
            "description": "idx",
            "description_tooltip": null,
            "disabled": false,
            "layout": "IPY_MODEL_08e8987d1cf64cb1bf43fb5ffb67842d",
            "max": 59999,
            "min": 0,
            "orientation": "horizontal",
            "readout": true,
            "readout_format": "d",
            "step": 1,
            "style": "IPY_MODEL_437f991ce488443aaa122d6a3541a1fa",
            "value": 0
          }
        },
        "a419b1a120bc413d8725390f43cc5d25": {
          "model_module": "@jupyter-widgets/output",
          "model_name": "OutputModel",
          "model_module_version": "1.0.0",
          "state": {
            "_dom_classes": [],
            "_model_module": "@jupyter-widgets/output",
            "_model_module_version": "1.0.0",
            "_model_name": "OutputModel",
            "_view_count": null,
            "_view_module": "@jupyter-widgets/output",
            "_view_module_version": "1.0.0",
            "_view_name": "OutputView",
            "layout": "IPY_MODEL_674e663607234694a745682c621d5c59",
            "msg_id": "",
            "outputs": [
              {
                "output_type": "stream",
                "name": "stdout",
                "text": [
                  "GT label: 5\n"
                ]
              },
              {
                "output_type": "display_data",
                "data": {
                  "text/plain": "<Figure size 640x480 with 2 Axes>",
                  "image/png": "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\n"
                },
                "metadata": {}
              }
            ]
          }
        },
        "db63dea9e4c046689a364bf4e9990f0a": {
          "model_module": "@jupyter-widgets/base",
          "model_name": "LayoutModel",
          "model_module_version": "1.2.0",
          "state": {
            "_model_module": "@jupyter-widgets/base",
            "_model_module_version": "1.2.0",
            "_model_name": "LayoutModel",
            "_view_count": null,
            "_view_module": "@jupyter-widgets/base",
            "_view_module_version": "1.2.0",
            "_view_name": "LayoutView",
            "align_content": null,
            "align_items": null,
            "align_self": null,
            "border": null,
            "bottom": null,
            "display": null,
            "flex": null,
            "flex_flow": null,
            "grid_area": null,
            "grid_auto_columns": null,
            "grid_auto_flow": null,
            "grid_auto_rows": null,
            "grid_column": null,
            "grid_gap": null,
            "grid_row": null,
            "grid_template_areas": null,
            "grid_template_columns": null,
            "grid_template_rows": null,
            "height": null,
            "justify_content": null,
            "justify_items": null,
            "left": null,
            "margin": null,
            "max_height": null,
            "max_width": null,
            "min_height": null,
            "min_width": null,
            "object_fit": null,
            "object_position": null,
            "order": null,
            "overflow": null,
            "overflow_x": null,
            "overflow_y": null,
            "padding": null,
            "right": null,
            "top": null,
            "visibility": null,
            "width": null
          }
        },
        "08e8987d1cf64cb1bf43fb5ffb67842d": {
          "model_module": "@jupyter-widgets/base",
          "model_name": "LayoutModel",
          "model_module_version": "1.2.0",
          "state": {
            "_model_module": "@jupyter-widgets/base",
            "_model_module_version": "1.2.0",
            "_model_name": "LayoutModel",
            "_view_count": null,
            "_view_module": "@jupyter-widgets/base",
            "_view_module_version": "1.2.0",
            "_view_name": "LayoutView",
            "align_content": null,
            "align_items": null,
            "align_self": null,
            "border": null,
            "bottom": null,
            "display": null,
            "flex": null,
            "flex_flow": null,
            "grid_area": null,
            "grid_auto_columns": null,
            "grid_auto_flow": null,
            "grid_auto_rows": null,
            "grid_column": null,
            "grid_gap": null,
            "grid_row": null,
            "grid_template_areas": null,
            "grid_template_columns": null,
            "grid_template_rows": null,
            "height": null,
            "justify_content": null,
            "justify_items": null,
            "left": null,
            "margin": null,
            "max_height": null,
            "max_width": null,
            "min_height": null,
            "min_width": null,
            "object_fit": null,
            "object_position": null,
            "order": null,
            "overflow": null,
            "overflow_x": null,
            "overflow_y": null,
            "padding": null,
            "right": null,
            "top": null,
            "visibility": null,
            "width": null
          }
        },
        "437f991ce488443aaa122d6a3541a1fa": {
          "model_module": "@jupyter-widgets/controls",
          "model_name": "SliderStyleModel",
          "model_module_version": "1.5.0",
          "state": {
            "_model_module": "@jupyter-widgets/controls",
            "_model_module_version": "1.5.0",
            "_model_name": "SliderStyleModel",
            "_view_count": null,
            "_view_module": "@jupyter-widgets/base",
            "_view_module_version": "1.2.0",
            "_view_name": "StyleView",
            "description_width": "",
            "handle_color": null
          }
        },
        "674e663607234694a745682c621d5c59": {
          "model_module": "@jupyter-widgets/base",
          "model_name": "LayoutModel",
          "model_module_version": "1.2.0",
          "state": {
            "_model_module": "@jupyter-widgets/base",
            "_model_module_version": "1.2.0",
            "_model_name": "LayoutModel",
            "_view_count": null,
            "_view_module": "@jupyter-widgets/base",
            "_view_module_version": "1.2.0",
            "_view_name": "LayoutView",
            "align_content": null,
            "align_items": null,
            "align_self": null,
            "border": null,
            "bottom": null,
            "display": null,
            "flex": null,
            "flex_flow": null,
            "grid_area": null,
            "grid_auto_columns": null,
            "grid_auto_flow": null,
            "grid_auto_rows": null,
            "grid_column": null,
            "grid_gap": null,
            "grid_row": null,
            "grid_template_areas": null,
            "grid_template_columns": null,
            "grid_template_rows": null,
            "height": null,
            "justify_content": null,
            "justify_items": null,
            "left": null,
            "margin": null,
            "max_height": null,
            "max_width": null,
            "min_height": null,
            "min_width": null,
            "object_fit": null,
            "object_position": null,
            "order": null,
            "overflow": null,
            "overflow_x": null,
            "overflow_y": null,
            "padding": null,
            "right": null,
            "top": null,
            "visibility": null,
            "width": null
          }
        },
        "5c555278b01f46d68eea4ef492943fd8": {
          "model_module": "@jupyter-widgets/controls",
          "model_name": "VBoxModel",
          "model_module_version": "1.5.0",
          "state": {
            "_dom_classes": [
              "widget-interact"
            ],
            "_model_module": "@jupyter-widgets/controls",
            "_model_module_version": "1.5.0",
            "_model_name": "VBoxModel",
            "_view_count": null,
            "_view_module": "@jupyter-widgets/controls",
            "_view_module_version": "1.5.0",
            "_view_name": "VBoxView",
            "box_style": "",
            "children": [
              "IPY_MODEL_a3eabcd9b82f4d589ed3f36a4f282eb2",
              "IPY_MODEL_f43e7d908304417d891a285d72823a94"
            ],
            "layout": "IPY_MODEL_3c96e314118648cca4a5ccde888462ca"
          }
        },
        "a3eabcd9b82f4d589ed3f36a4f282eb2": {
          "model_module": "@jupyter-widgets/controls",
          "model_name": "IntSliderModel",
          "model_module_version": "1.5.0",
          "state": {
            "_dom_classes": [],
            "_model_module": "@jupyter-widgets/controls",
            "_model_module_version": "1.5.0",
            "_model_name": "IntSliderModel",
            "_view_count": null,
            "_view_module": "@jupyter-widgets/controls",
            "_view_module_version": "1.5.0",
            "_view_name": "IntSliderView",
            "continuous_update": false,
            "description": "idx",
            "description_tooltip": null,
            "disabled": false,
            "layout": "IPY_MODEL_50f9a23cdd4441ed90340cb16d8aabbd",
            "max": 59999,
            "min": 0,
            "orientation": "horizontal",
            "readout": true,
            "readout_format": "d",
            "step": 1,
            "style": "IPY_MODEL_a39c6fb75a6d4f7da4c6d9d57c0c507d",
            "value": 0
          }
        },
        "f43e7d908304417d891a285d72823a94": {
          "model_module": "@jupyter-widgets/output",
          "model_name": "OutputModel",
          "model_module_version": "1.0.0",
          "state": {
            "_dom_classes": [],
            "_model_module": "@jupyter-widgets/output",
            "_model_module_version": "1.0.0",
            "_model_name": "OutputModel",
            "_view_count": null,
            "_view_module": "@jupyter-widgets/output",
            "_view_module_version": "1.0.0",
            "_view_name": "OutputView",
            "layout": "IPY_MODEL_a792faa0c4824265af106e31182dc75d",
            "msg_id": "",
            "outputs": [
              {
                "output_type": "stream",
                "name": "stdout",
                "text": [
                  "GT label: 5\n"
                ]
              },
              {
                "output_type": "display_data",
                "data": {
                  "text/plain": "<Figure size 640x480 with 2 Axes>",
                  "image/png": "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\n"
                },
                "metadata": {}
              }
            ]
          }
        },
        "3c96e314118648cca4a5ccde888462ca": {
          "model_module": "@jupyter-widgets/base",
          "model_name": "LayoutModel",
          "model_module_version": "1.2.0",
          "state": {
            "_model_module": "@jupyter-widgets/base",
            "_model_module_version": "1.2.0",
            "_model_name": "LayoutModel",
            "_view_count": null,
            "_view_module": "@jupyter-widgets/base",
            "_view_module_version": "1.2.0",
            "_view_name": "LayoutView",
            "align_content": null,
            "align_items": null,
            "align_self": null,
            "border": null,
            "bottom": null,
            "display": null,
            "flex": null,
            "flex_flow": null,
            "grid_area": null,
            "grid_auto_columns": null,
            "grid_auto_flow": null,
            "grid_auto_rows": null,
            "grid_column": null,
            "grid_gap": null,
            "grid_row": null,
            "grid_template_areas": null,
            "grid_template_columns": null,
            "grid_template_rows": null,
            "height": null,
            "justify_content": null,
            "justify_items": null,
            "left": null,
            "margin": null,
            "max_height": null,
            "max_width": null,
            "min_height": null,
            "min_width": null,
            "object_fit": null,
            "object_position": null,
            "order": null,
            "overflow": null,
            "overflow_x": null,
            "overflow_y": null,
            "padding": null,
            "right": null,
            "top": null,
            "visibility": null,
            "width": null
          }
        },
        "50f9a23cdd4441ed90340cb16d8aabbd": {
          "model_module": "@jupyter-widgets/base",
          "model_name": "LayoutModel",
          "model_module_version": "1.2.0",
          "state": {
            "_model_module": "@jupyter-widgets/base",
            "_model_module_version": "1.2.0",
            "_model_name": "LayoutModel",
            "_view_count": null,
            "_view_module": "@jupyter-widgets/base",
            "_view_module_version": "1.2.0",
            "_view_name": "LayoutView",
            "align_content": null,
            "align_items": null,
            "align_self": null,
            "border": null,
            "bottom": null,
            "display": null,
            "flex": null,
            "flex_flow": null,
            "grid_area": null,
            "grid_auto_columns": null,
            "grid_auto_flow": null,
            "grid_auto_rows": null,
            "grid_column": null,
            "grid_gap": null,
            "grid_row": null,
            "grid_template_areas": null,
            "grid_template_columns": null,
            "grid_template_rows": null,
            "height": null,
            "justify_content": null,
            "justify_items": null,
            "left": null,
            "margin": null,
            "max_height": null,
            "max_width": null,
            "min_height": null,
            "min_width": null,
            "object_fit": null,
            "object_position": null,
            "order": null,
            "overflow": null,
            "overflow_x": null,
            "overflow_y": null,
            "padding": null,
            "right": null,
            "top": null,
            "visibility": null,
            "width": null
          }
        },
        "a39c6fb75a6d4f7da4c6d9d57c0c507d": {
          "model_module": "@jupyter-widgets/controls",
          "model_name": "SliderStyleModel",
          "model_module_version": "1.5.0",
          "state": {
            "_model_module": "@jupyter-widgets/controls",
            "_model_module_version": "1.5.0",
            "_model_name": "SliderStyleModel",
            "_view_count": null,
            "_view_module": "@jupyter-widgets/base",
            "_view_module_version": "1.2.0",
            "_view_name": "StyleView",
            "description_width": "",
            "handle_color": null
          }
        },
        "a792faa0c4824265af106e31182dc75d": {
          "model_module": "@jupyter-widgets/base",
          "model_name": "LayoutModel",
          "model_module_version": "1.2.0",
          "state": {
            "_model_module": "@jupyter-widgets/base",
            "_model_module_version": "1.2.0",
            "_model_name": "LayoutModel",
            "_view_count": null,
            "_view_module": "@jupyter-widgets/base",
            "_view_module_version": "1.2.0",
            "_view_name": "LayoutView",
            "align_content": null,
            "align_items": null,
            "align_self": null,
            "border": null,
            "bottom": null,
            "display": null,
            "flex": null,
            "flex_flow": null,
            "grid_area": null,
            "grid_auto_columns": null,
            "grid_auto_flow": null,
            "grid_auto_rows": null,
            "grid_column": null,
            "grid_gap": null,
            "grid_row": null,
            "grid_template_areas": null,
            "grid_template_columns": null,
            "grid_template_rows": null,
            "height": null,
            "justify_content": null,
            "justify_items": null,
            "left": null,
            "margin": null,
            "max_height": null,
            "max_width": null,
            "min_height": null,
            "min_width": null,
            "object_fit": null,
            "object_position": null,
            "order": null,
            "overflow": null,
            "overflow_x": null,
            "overflow_y": null,
            "padding": null,
            "right": null,
            "top": null,
            "visibility": null,
            "width": null
          }
        },
        "d24568e51cac4e4c9b0ed2fc73d63216": {
          "model_module": "@jupyter-widgets/controls",
          "model_name": "VBoxModel",
          "model_module_version": "1.5.0",
          "state": {
            "_dom_classes": [
              "widget-interact"
            ],
            "_model_module": "@jupyter-widgets/controls",
            "_model_module_version": "1.5.0",
            "_model_name": "VBoxModel",
            "_view_count": null,
            "_view_module": "@jupyter-widgets/controls",
            "_view_module_version": "1.5.0",
            "_view_name": "VBoxView",
            "box_style": "",
            "children": [
              "IPY_MODEL_cceff76600fa402fadd01ced1a816ac9",
              "IPY_MODEL_73bbfacf59754e81aa5395f1e36a5b77"
            ],
            "layout": "IPY_MODEL_4f2a0bf5baf24e86b61808310ad3ead1"
          }
        },
        "cceff76600fa402fadd01ced1a816ac9": {
          "model_module": "@jupyter-widgets/controls",
          "model_name": "IntSliderModel",
          "model_module_version": "1.5.0",
          "state": {
            "_dom_classes": [],
            "_model_module": "@jupyter-widgets/controls",
            "_model_module_version": "1.5.0",
            "_model_name": "IntSliderModel",
            "_view_count": null,
            "_view_module": "@jupyter-widgets/controls",
            "_view_module_version": "1.5.0",
            "_view_name": "IntSliderView",
            "continuous_update": false,
            "description": "idx",
            "description_tooltip": null,
            "disabled": false,
            "layout": "IPY_MODEL_2b6d90a7c3a74ecaa67647cf7f64b467",
            "max": 59999,
            "min": 0,
            "orientation": "horizontal",
            "readout": true,
            "readout_format": "d",
            "step": 1,
            "style": "IPY_MODEL_01cd922d007b4082b00ca6b64b166ca6",
            "value": 0
          }
        },
        "73bbfacf59754e81aa5395f1e36a5b77": {
          "model_module": "@jupyter-widgets/output",
          "model_name": "OutputModel",
          "model_module_version": "1.0.0",
          "state": {
            "_dom_classes": [],
            "_model_module": "@jupyter-widgets/output",
            "_model_module_version": "1.0.0",
            "_model_name": "OutputModel",
            "_view_count": null,
            "_view_module": "@jupyter-widgets/output",
            "_view_module_version": "1.0.0",
            "_view_name": "OutputView",
            "layout": "IPY_MODEL_f85aeab9519245a682a10c92f14c0813",
            "msg_id": "",
            "outputs": [
              {
                "output_type": "stream",
                "name": "stdout",
                "text": [
                  "GT label: 5\n"
                ]
              },
              {
                "output_type": "display_data",
                "data": {
                  "text/plain": "<Figure size 640x480 with 2 Axes>",
                  "image/png": "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\n"
                },
                "metadata": {}
              }
            ]
          }
        },
        "4f2a0bf5baf24e86b61808310ad3ead1": {
          "model_module": "@jupyter-widgets/base",
          "model_name": "LayoutModel",
          "model_module_version": "1.2.0",
          "state": {
            "_model_module": "@jupyter-widgets/base",
            "_model_module_version": "1.2.0",
            "_model_name": "LayoutModel",
            "_view_count": null,
            "_view_module": "@jupyter-widgets/base",
            "_view_module_version": "1.2.0",
            "_view_name": "LayoutView",
            "align_content": null,
            "align_items": null,
            "align_self": null,
            "border": null,
            "bottom": null,
            "display": null,
            "flex": null,
            "flex_flow": null,
            "grid_area": null,
            "grid_auto_columns": null,
            "grid_auto_flow": null,
            "grid_auto_rows": null,
            "grid_column": null,
            "grid_gap": null,
            "grid_row": null,
            "grid_template_areas": null,
            "grid_template_columns": null,
            "grid_template_rows": null,
            "height": null,
            "justify_content": null,
            "justify_items": null,
            "left": null,
            "margin": null,
            "max_height": null,
            "max_width": null,
            "min_height": null,
            "min_width": null,
            "object_fit": null,
            "object_position": null,
            "order": null,
            "overflow": null,
            "overflow_x": null,
            "overflow_y": null,
            "padding": null,
            "right": null,
            "top": null,
            "visibility": null,
            "width": null
          }
        },
        "2b6d90a7c3a74ecaa67647cf7f64b467": {
          "model_module": "@jupyter-widgets/base",
          "model_name": "LayoutModel",
          "model_module_version": "1.2.0",
          "state": {
            "_model_module": "@jupyter-widgets/base",
            "_model_module_version": "1.2.0",
            "_model_name": "LayoutModel",
            "_view_count": null,
            "_view_module": "@jupyter-widgets/base",
            "_view_module_version": "1.2.0",
            "_view_name": "LayoutView",
            "align_content": null,
            "align_items": null,
            "align_self": null,
            "border": null,
            "bottom": null,
            "display": null,
            "flex": null,
            "flex_flow": null,
            "grid_area": null,
            "grid_auto_columns": null,
            "grid_auto_flow": null,
            "grid_auto_rows": null,
            "grid_column": null,
            "grid_gap": null,
            "grid_row": null,
            "grid_template_areas": null,
            "grid_template_columns": null,
            "grid_template_rows": null,
            "height": null,
            "justify_content": null,
            "justify_items": null,
            "left": null,
            "margin": null,
            "max_height": null,
            "max_width": null,
            "min_height": null,
            "min_width": null,
            "object_fit": null,
            "object_position": null,
            "order": null,
            "overflow": null,
            "overflow_x": null,
            "overflow_y": null,
            "padding": null,
            "right": null,
            "top": null,
            "visibility": null,
            "width": null
          }
        },
        "01cd922d007b4082b00ca6b64b166ca6": {
          "model_module": "@jupyter-widgets/controls",
          "model_name": "SliderStyleModel",
          "model_module_version": "1.5.0",
          "state": {
            "_model_module": "@jupyter-widgets/controls",
            "_model_module_version": "1.5.0",
            "_model_name": "SliderStyleModel",
            "_view_count": null,
            "_view_module": "@jupyter-widgets/base",
            "_view_module_version": "1.2.0",
            "_view_name": "StyleView",
            "description_width": "",
            "handle_color": null
          }
        },
        "f85aeab9519245a682a10c92f14c0813": {
          "model_module": "@jupyter-widgets/base",
          "model_name": "LayoutModel",
          "model_module_version": "1.2.0",
          "state": {
            "_model_module": "@jupyter-widgets/base",
            "_model_module_version": "1.2.0",
            "_model_name": "LayoutModel",
            "_view_count": null,
            "_view_module": "@jupyter-widgets/base",
            "_view_module_version": "1.2.0",
            "_view_name": "LayoutView",
            "align_content": null,
            "align_items": null,
            "align_self": null,
            "border": null,
            "bottom": null,
            "display": null,
            "flex": null,
            "flex_flow": null,
            "grid_area": null,
            "grid_auto_columns": null,
            "grid_auto_flow": null,
            "grid_auto_rows": null,
            "grid_column": null,
            "grid_gap": null,
            "grid_row": null,
            "grid_template_areas": null,
            "grid_template_columns": null,
            "grid_template_rows": null,
            "height": null,
            "justify_content": null,
            "justify_items": null,
            "left": null,
            "margin": null,
            "max_height": null,
            "max_width": null,
            "min_height": null,
            "min_width": null,
            "object_fit": null,
            "object_position": null,
            "order": null,
            "overflow": null,
            "overflow_x": null,
            "overflow_y": null,
            "padding": null,
            "right": null,
            "top": null,
            "visibility": null,
            "width": null
          }
        },
        "1a916047c57044b0a567e0879f501098": {
          "model_module": "@jupyter-widgets/controls",
          "model_name": "HBoxModel",
          "model_module_version": "1.5.0",
          "state": {
            "_dom_classes": [],
            "_model_module": "@jupyter-widgets/controls",
            "_model_module_version": "1.5.0",
            "_model_name": "HBoxModel",
            "_view_count": null,
            "_view_module": "@jupyter-widgets/controls",
            "_view_module_version": "1.5.0",
            "_view_name": "HBoxView",
            "box_style": "",
            "children": [
              "IPY_MODEL_7603b75d32864dbeb99c8626f340af3b",
              "IPY_MODEL_562722bb327f4da5aa666215ee212be7"
            ],
            "layout": "IPY_MODEL_eba722ebb28240e3b01566bf0bc3aaac"
          }
        },
        "7603b75d32864dbeb99c8626f340af3b": {
          "model_module": "@jupyter-widgets/controls",
          "model_name": "FloatSliderModel",
          "model_module_version": "1.5.0",
          "state": {
            "_dom_classes": [],
            "_model_module": "@jupyter-widgets/controls",
            "_model_module_version": "1.5.0",
            "_model_name": "FloatSliderModel",
            "_view_count": null,
            "_view_module": "@jupyter-widgets/controls",
            "_view_module_version": "1.5.0",
            "_view_name": "FloatSliderView",
            "continuous_update": true,
            "description": "",
            "description_tooltip": null,
            "disabled": false,
            "layout": "IPY_MODEL_4775e429a0f447ab8af0417e6e788258",
            "max": 10,
            "min": -10,
            "orientation": "horizontal",
            "readout": true,
            "readout_format": ".2f",
            "step": 0.1,
            "style": "IPY_MODEL_09fadfd037b748569841db772a3890ae",
            "value": -0.2
          }
        },
        "562722bb327f4da5aa666215ee212be7": {
          "model_module": "@jupyter-widgets/controls",
          "model_name": "FloatSliderModel",
          "model_module_version": "1.5.0",
          "state": {
            "_dom_classes": [],
            "_model_module": "@jupyter-widgets/controls",
            "_model_module_version": "1.5.0",
            "_model_name": "FloatSliderModel",
            "_view_count": null,
            "_view_module": "@jupyter-widgets/controls",
            "_view_module_version": "1.5.0",
            "_view_name": "FloatSliderView",
            "continuous_update": true,
            "description": "",
            "description_tooltip": null,
            "disabled": false,
            "layout": "IPY_MODEL_e5ce7376b8c846dea843b124beb800f7",
            "max": 10,
            "min": -10,
            "orientation": "vertical",
            "readout": true,
            "readout_format": ".2f",
            "step": 0.1,
            "style": "IPY_MODEL_f5cec622f8a64708b19de7d8af9a1683",
            "value": 0
          }
        },
        "eba722ebb28240e3b01566bf0bc3aaac": {
          "model_module": "@jupyter-widgets/base",
          "model_name": "LayoutModel",
          "model_module_version": "1.2.0",
          "state": {
            "_model_module": "@jupyter-widgets/base",
            "_model_module_version": "1.2.0",
            "_model_name": "LayoutModel",
            "_view_count": null,
            "_view_module": "@jupyter-widgets/base",
            "_view_module_version": "1.2.0",
            "_view_name": "LayoutView",
            "align_content": null,
            "align_items": null,
            "align_self": null,
            "border": null,
            "bottom": null,
            "display": null,
            "flex": null,
            "flex_flow": null,
            "grid_area": null,
            "grid_auto_columns": null,
            "grid_auto_flow": null,
            "grid_auto_rows": null,
            "grid_column": null,
            "grid_gap": null,
            "grid_row": null,
            "grid_template_areas": null,
            "grid_template_columns": null,
            "grid_template_rows": null,
            "height": null,
            "justify_content": null,
            "justify_items": null,
            "left": null,
            "margin": null,
            "max_height": null,
            "max_width": null,
            "min_height": null,
            "min_width": null,
            "object_fit": null,
            "object_position": null,
            "order": null,
            "overflow": null,
            "overflow_x": null,
            "overflow_y": null,
            "padding": null,
            "right": null,
            "top": null,
            "visibility": null,
            "width": null
          }
        },
        "4775e429a0f447ab8af0417e6e788258": {
          "model_module": "@jupyter-widgets/base",
          "model_name": "LayoutModel",
          "model_module_version": "1.2.0",
          "state": {
            "_model_module": "@jupyter-widgets/base",
            "_model_module_version": "1.2.0",
            "_model_name": "LayoutModel",
            "_view_count": null,
            "_view_module": "@jupyter-widgets/base",
            "_view_module_version": "1.2.0",
            "_view_name": "LayoutView",
            "align_content": null,
            "align_items": null,
            "align_self": null,
            "border": null,
            "bottom": null,
            "display": null,
            "flex": null,
            "flex_flow": null,
            "grid_area": null,
            "grid_auto_columns": null,
            "grid_auto_flow": null,
            "grid_auto_rows": null,
            "grid_column": null,
            "grid_gap": null,
            "grid_row": null,
            "grid_template_areas": null,
            "grid_template_columns": null,
            "grid_template_rows": null,
            "height": null,
            "justify_content": null,
            "justify_items": null,
            "left": null,
            "margin": null,
            "max_height": null,
            "max_width": null,
            "min_height": null,
            "min_width": null,
            "object_fit": null,
            "object_position": null,
            "order": null,
            "overflow": null,
            "overflow_x": null,
            "overflow_y": null,
            "padding": null,
            "right": null,
            "top": null,
            "visibility": null,
            "width": null
          }
        },
        "09fadfd037b748569841db772a3890ae": {
          "model_module": "@jupyter-widgets/controls",
          "model_name": "SliderStyleModel",
          "model_module_version": "1.5.0",
          "state": {
            "_model_module": "@jupyter-widgets/controls",
            "_model_module_version": "1.5.0",
            "_model_name": "SliderStyleModel",
            "_view_count": null,
            "_view_module": "@jupyter-widgets/base",
            "_view_module_version": "1.2.0",
            "_view_name": "StyleView",
            "description_width": "",
            "handle_color": null
          }
        },
        "e5ce7376b8c846dea843b124beb800f7": {
          "model_module": "@jupyter-widgets/base",
          "model_name": "LayoutModel",
          "model_module_version": "1.2.0",
          "state": {
            "_model_module": "@jupyter-widgets/base",
            "_model_module_version": "1.2.0",
            "_model_name": "LayoutModel",
            "_view_count": null,
            "_view_module": "@jupyter-widgets/base",
            "_view_module_version": "1.2.0",
            "_view_name": "LayoutView",
            "align_content": null,
            "align_items": null,
            "align_self": null,
            "border": null,
            "bottom": null,
            "display": null,
            "flex": null,
            "flex_flow": null,
            "grid_area": null,
            "grid_auto_columns": null,
            "grid_auto_flow": null,
            "grid_auto_rows": null,
            "grid_column": null,
            "grid_gap": null,
            "grid_row": null,
            "grid_template_areas": null,
            "grid_template_columns": null,
            "grid_template_rows": null,
            "height": null,
            "justify_content": null,
            "justify_items": null,
            "left": null,
            "margin": null,
            "max_height": null,
            "max_width": null,
            "min_height": null,
            "min_width": null,
            "object_fit": null,
            "object_position": null,
            "order": null,
            "overflow": null,
            "overflow_x": null,
            "overflow_y": null,
            "padding": null,
            "right": null,
            "top": null,
            "visibility": null,
            "width": null
          }
        },
        "f5cec622f8a64708b19de7d8af9a1683": {
          "model_module": "@jupyter-widgets/controls",
          "model_name": "SliderStyleModel",
          "model_module_version": "1.5.0",
          "state": {
            "_model_module": "@jupyter-widgets/controls",
            "_model_module_version": "1.5.0",
            "_model_name": "SliderStyleModel",
            "_view_count": null,
            "_view_module": "@jupyter-widgets/base",
            "_view_module_version": "1.2.0",
            "_view_name": "StyleView",
            "description_width": "",
            "handle_color": null
          }
        },
        "d72675e836e54cb59621cf8aba4b6f34": {
          "model_module": "@jupyter-widgets/output",
          "model_name": "OutputModel",
          "model_module_version": "1.0.0",
          "state": {
            "_dom_classes": [],
            "_model_module": "@jupyter-widgets/output",
            "_model_module_version": "1.0.0",
            "_model_name": "OutputModel",
            "_view_count": null,
            "_view_module": "@jupyter-widgets/output",
            "_view_module_version": "1.0.0",
            "_view_name": "OutputView",
            "layout": "IPY_MODEL_1aca3f5f9cd44b978f46074f29cb4a04",
            "msg_id": "",
            "outputs": [
              {
                "output_type": "stream",
                "name": "stdout",
                "text": [
                  "[[0. 0.]]\n"
                ]
              },
              {
                "output_type": "display_data",
                "data": {
                  "text/plain": "<Figure size 640x480 with 1 Axes>",
                  "image/png": "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\n"
                },
                "metadata": {}
              }
            ]
          }
        },
        "1aca3f5f9cd44b978f46074f29cb4a04": {
          "model_module": "@jupyter-widgets/base",
          "model_name": "LayoutModel",
          "model_module_version": "1.2.0",
          "state": {
            "_model_module": "@jupyter-widgets/base",
            "_model_module_version": "1.2.0",
            "_model_name": "LayoutModel",
            "_view_count": null,
            "_view_module": "@jupyter-widgets/base",
            "_view_module_version": "1.2.0",
            "_view_name": "LayoutView",
            "align_content": null,
            "align_items": null,
            "align_self": null,
            "border": null,
            "bottom": null,
            "display": null,
            "flex": null,
            "flex_flow": null,
            "grid_area": null,
            "grid_auto_columns": null,
            "grid_auto_flow": null,
            "grid_auto_rows": null,
            "grid_column": null,
            "grid_gap": null,
            "grid_row": null,
            "grid_template_areas": null,
            "grid_template_columns": null,
            "grid_template_rows": null,
            "height": null,
            "justify_content": null,
            "justify_items": null,
            "left": null,
            "margin": null,
            "max_height": null,
            "max_width": null,
            "min_height": null,
            "min_width": null,
            "object_fit": null,
            "object_position": null,
            "order": null,
            "overflow": null,
            "overflow_x": null,
            "overflow_y": null,
            "padding": null,
            "right": null,
            "top": null,
            "visibility": null,
            "width": null
          }
        }
      }
    }
  },
  "cells": [
    {
      "cell_type": "markdown",
      "metadata": {
        "id": "view-in-github",
        "colab_type": "text"
      },
      "source": [
        "<a href=\"https://colab.research.google.com/github/NathnSong/Visual_Computing/blob/main/%5BHW01%5D_AutoEncoder.ipynb\" target=\"_parent\"><img src=\"https://colab.research.google.com/assets/colab-badge.svg\" alt=\"Open In Colab\"/></a>"
      ]
    },
    {
      "cell_type": "markdown",
      "source": [
        "# 📝 과제 제출 정보  \n",
        "\n",
        "| 📌 항목  | ✏️ 입력 |\n",
        "|---------|-------|\n",
        "| **학과** | `소프트웨어학부` |\n",
        "| **학번** | `20203084` |\n",
        "| **이름** | `송나단` |\n",
        "\n",
        "🚨 위 과제 제출 정보를 정확히 기입하지 않으면 감점됩니다."
      ],
      "metadata": {
        "id": "58GCUz8-o-Sa"
      }
    },
    {
      "cell_type": "code",
      "source": [
        "from google.colab import drive\n",
        "drive.mount('/content/drive')"
      ],
      "metadata": {
        "colab": {
          "base_uri": "https://localhost:8080/"
        },
        "id": "jsu-mAcJ3_VJ",
        "outputId": "61cb5512-7a41-4733-d9b2-d5b8ebfa287f"
      },
      "execution_count": null,
      "outputs": [
        {
          "output_type": "stream",
          "name": "stdout",
          "text": [
            "Mounted at /content/drive\n"
          ]
        }
      ]
    },
    {
      "cell_type": "markdown",
      "source": [
        "---\n",
        "\n",
        "## [HW01] AutoEncoder\n",
        "\n",
        "다음을 확인하는 리포트를 Colab 노트북을 이용해 작성한다.\n",
        "\n",
        "1. 정규분포를 통한 파라미터 초기화를 진행한 `Linear` layer를 Xavier 초기화, He 초기화 기법을 통해 초기화를 진행한 뒤, 결과에 대해 분석한다.\n",
        "\n",
        "2. Autoencoder의 encoder를 거쳐 나온 representation $z$를 groud truth(GT) label별로 다른색을 주어 $z$의 분포를 가시화한다.\n",
        "\n",
        "3. $z$의 분포를 보고 encoder가 label별로 discriminative한 representation을 만들어내는지 확인한다.\n",
        "\n",
        "4. 만일 discriminative하지 않다면, autoencoder가 discriminative한 representation $z$를 학습하도록 $z$의 차원을 바꿔가면서 실험해본다.\n",
        "\n",
        "5. $z$ 공간의 임의의 위치를 sampling한 후, 학습된 decoder의 입력으로 주는 방식으로 generative model을 구축한다. 의미있게 만들어진 이미지는 어떤 특징을 갖고 있는지 논의한다.\n",
        "\n",
        "---"
      ],
      "metadata": {
        "id": "-_aeV4lfqEzO"
      }
    },
    {
      "cell_type": "markdown",
      "source": [
        "# 오토인코더 (Pytorch)\n",
        "Pytorch에서 제공하는 고수준 API를 이용해, 오토인코더(autoencoder)를 구현한다.\n",
        "\n",
        "참고문헌\n",
        "* [Pytorch tutorial](https://tutorials.pytorch.kr/)\n",
        "* [Dive into Deep learning](https://d2l.ai/)\n",
        "\n",
        "\n",
        "주의사항\n",
        "* Colab에서 코드에 이상이 없음에도 불구하고 결과가 제대로 나오지 않을 경우, '런타임 다시 시작...'을 해보도록 한다.'\n",
        "\n",
        "\n",
        "## Deep Neural Network 기초\n",
        "다음 비디오를 보고 심층신경망(deep neural network) 기반 딥러닝 기법은 이해하도록 한다.\n",
        "* [신경망이란 무엇인가? | 1장.딥러닝에 관하여 (3Blue1Brown)](https://youtu.be/aircAruvnKk)\n",
        "* [경사 하강, 신경 네트워크가 학습하는 방법 | 심층 학습, 2장 (3Blue1Brown)](https://youtu.be/IHZwWFHWa-w)\n",
        "* [What is backpropagation really doing? | Deep learning, chapter 3 (3Blue1Brown)](https://youtu.be/Ilg3gGewQ5U)\n",
        "* [Backpropagation calculus | Deep learning, chapter 4 (3Blue1Brown)](https://youtu.be/tIeHLnjs5U8)"
      ],
      "metadata": {
        "id": "Lo3MtwRxqMYK"
      }
    },
    {
      "cell_type": "markdown",
      "source": [
        "## 필요한 모듈 임포트"
      ],
      "metadata": {
        "id": "M-L0_kH-qfcu"
      }
    },
    {
      "cell_type": "code",
      "source": [
        "import sys\n",
        "import time\n",
        "import numpy as np\n",
        "import matplotlib.pyplot as plt\n",
        "\n",
        "import torch                                      # 파이토치 임포트\n",
        "import torch.nn as nn                             # nn 모듈 임포트\n",
        "import torch.nn.functional as F\n",
        "\n",
        "import torchvision                                # torchvision 임포트\n",
        "import torchvision.utils as utils\n",
        "import torchvision.transforms as transforms       # numpy 이미지에서 tensor 이미지로 변경하기 위한 모듈\n",
        "import torchvision.datasets as datasets           # pytorch에 내장된 dataset을 불러오기 위한 모듈\n",
        "\n",
        "from tqdm import tqdm\n",
        "\n",
        "print(\"Python:\", sys.version)\n",
        "print(\"Numpy:\", np.__version__)\n",
        "\n",
        "print(\"Torch: \", torch.__version__)               # 파이토치 버전을 확인하도록 한다.\n",
        "print(\"Torchvision: \", torchvision.__version__)   # 토치비전 버전을 확인하도록 한다."
      ],
      "metadata": {
        "id": "4vEgz7DjpN46",
        "colab": {
          "base_uri": "https://localhost:8080/"
        },
        "outputId": "ef9cd70e-3543-478e-af14-d577fb2829fc"
      },
      "execution_count": null,
      "outputs": [
        {
          "output_type": "stream",
          "name": "stdout",
          "text": [
            "Python: 3.11.11 (main, Dec  4 2024, 08:55:07) [GCC 11.4.0]\n",
            "Numpy: 2.0.2\n",
            "Torch:  2.6.0+cu124\n",
            "Torchvision:  0.21.0+cu124\n"
          ]
        }
      ]
    },
    {
      "cell_type": "markdown",
      "source": [
        "## GPU 디바이스 선택 및 확인"
      ],
      "metadata": {
        "id": "XE70UTV4qnA_"
      }
    },
    {
      "cell_type": "code",
      "source": [
        "device = torch.device(\"cuda:0\" if torch.cuda.is_available() else \"cpu\")\n",
        "print(device)\n",
        "use_cuda = torch.cuda.is_available()\n",
        "print(use_cuda)\n",
        "if use_cuda:\n",
        "  print(torch.cuda.get_device_name(0))"
      ],
      "metadata": {
        "id": "ztjPwybHpJyU",
        "colab": {
          "base_uri": "https://localhost:8080/"
        },
        "outputId": "3d7c37b3-bd9b-4130-85e6-8f0d66a3d372"
      },
      "execution_count": null,
      "outputs": [
        {
          "output_type": "stream",
          "name": "stdout",
          "text": [
            "cuda:0\n",
            "True\n",
            "Tesla T4\n"
          ]
        }
      ]
    },
    {
      "cell_type": "markdown",
      "source": [
        "## Hyperparameter 설정\n",
        "* batch size, learning rate, epoch을 설정"
      ],
      "metadata": {
        "id": "YDvabh1Rs0He"
      }
    },
    {
      "cell_type": "code",
      "source": [
        "batch_size    = 100\n",
        "learning_rate = 0.001\n",
        "num_epochs    = 10"
      ],
      "metadata": {
        "id": "GMzLcp10s174"
      },
      "execution_count": null,
      "outputs": []
    },
    {
      "cell_type": "markdown",
      "source": [
        "## MNIST 데이터셋 띄우기\n",
        "![MnistExamples.png](https://upload.wikimedia.org/wikipedia/commons/2/27/MnistExamples.png)\n",
        "* mnist 데이터셋은 숫자(digit) 손글씨 데이터셋이다.\n",
        "* 60,000개의 트레이닝 데이터와 10,000개의 테스트 데이터로 이루어져 있다.\n",
        "* LeCun이 자신의 연구에서 활용하고 배포한 데이터셋이 있으나 최근 보편적으로 많이 활용하기 때문에 텐서플로우나 파이토치 등에서 built-in 데이터셋의 형태로 제공해 주기도 한다.  \n",
        "\n",
        "### MNIST 이미지 데이터\n",
        "* MNIST 데이터셋은 여러 버젼이 있으나, 여기서는 이를 파이토치에 맞게 정리하여 torchvision.datasets에서 built-in으로 제공하는 데이터셋을 쓰도록 하겠다. ([link](https://pytorch.org/vision/main/generated/torchvision.datasets.MNIST.html))\n",
        "  + (PIL image, integer label)로 구성된 데이터를 제공.\n",
        "  + PIL image는 각 픽셀이 [0, 255] 사이값으로 구성된 H x W x C 크기의 이미지이다.\n",
        "* 뉴럴넷의 입력으로 넣기 위해 픽셀값이 0 근처에 있는 작은 실수값을 가지도록 다음과 같이 변환한다.\n",
        "  + ToTensor(): [0, 255] 사이 값을 [0.0, 1.0] 사이값으로 변화시킴과 동시에 C x H x W 형태로 변환시킨다."
      ],
      "metadata": {
        "id": "3RN1ek7jsKm9"
      }
    },
    {
      "cell_type": "code",
      "source": [
        "import torchvision.transforms as transforms\n",
        "from torchvision.datasets import MNIST\n",
        "\n",
        "# download path 정의\n",
        "download_root = './MNIST_DATASET'\n",
        "\n",
        "\n",
        "# PIL image (H x W x C) -> torch tensor (C x H x W) and\n",
        "# [0, 255] -> [0.0, 1.0]\n",
        "mnist_transform = transforms.Compose([\n",
        "    transforms.ToTensor(),\n",
        "])\n",
        "\n",
        "train_dataset = MNIST(download_root,\n",
        "                      transform=mnist_transform,\n",
        "                      train=True,\n",
        "                      download=True)\n",
        "\n",
        "test_dataset = MNIST(download_root,\n",
        "                     transform=mnist_transform,\n",
        "                     train=False,\n",
        "                     download=False)"
      ],
      "metadata": {
        "id": "taiGzFrpr8oF",
        "colab": {
          "base_uri": "https://localhost:8080/"
        },
        "outputId": "84c7226d-b2a4-49f7-f079-bf1c7938f008"
      },
      "execution_count": null,
      "outputs": [
        {
          "output_type": "stream",
          "name": "stderr",
          "text": [
            "100%|██████████| 9.91M/9.91M [00:00<00:00, 17.3MB/s]\n",
            "100%|██████████| 28.9k/28.9k [00:00<00:00, 479kB/s]\n",
            "100%|██████████| 1.65M/1.65M [00:00<00:00, 3.79MB/s]\n",
            "100%|██████████| 4.54k/4.54k [00:00<00:00, 8.29MB/s]\n"
          ]
        }
      ]
    },
    {
      "cell_type": "markdown",
      "source": [
        "## 데이터셋 확인\n",
        "데이터셋을 로딩한 후 **데이터셋 구성**이 어떻게 되어 있는지 **반드시 확인**하는 습관을 가지도록 한다.\n",
        "\n",
        "torchvision.datasets.MNIST 데이터셋의 각 데이터는 (이미지, 레이블)로 구성된 튜플이다.\n",
        "\n",
        "다음은 MNIST 데이터셋에 있는 이미지와 레이블에 대한 각종 정보를 확인하는 코드이다.\n",
        "\n",
        "해당 코드를 통해 다음 사항을 확인할 수 있다.\n",
        "* train_dataset의 길이는 60,000이다.\n",
        "* test_dataset의 길이는 10,000이다.\n",
        "\n",
        "### MNIST 이미지 데이터\n",
        "* 각 이미지는 C X H x W 순서로 구성된 [1, 28, 28] 모양의 텐서로 로딩되었다.\n",
        "* 각 이미지 픽셀값은 ToTensor() 변환을 통해 [0.0, 1.0] 사이의 값으로 변환되었다.\n",
        "* 각 이미지 픽셀값은 `torch.float32` 타입이다.\n",
        "* 각 레이블 값의 타입은 파이썬 `int` 형이다.\n",
        "\n",
        "### MNIST 라벨 데이터\n",
        "* 각 레이블 값은 [0, 9] 사이의 파이썬 `int`형이다."
      ],
      "metadata": {
        "id": "O3AnXT_ZsWbA"
      }
    },
    {
      "cell_type": "code",
      "source": [
        "def print_MNIST_dataset_info(dataset):\n",
        "  print(\">>> dataset length: \", len(dataset))\n",
        "  print(\">>> type of each data: \", type(dataset[0]))\n",
        "  first_img, first_label = dataset[0]\n",
        "  print(\">>> image shape: \", first_img.shape)\n",
        "  print(\">>> image dtype: \", first_img.dtype)\n",
        "  print(\">>> image pixel min-value: \", first_img.min())\n",
        "  print(\">>> image pixel max-value: \", first_img.max())\n",
        "  print(\">>> label data type: \", type(first_label))\n",
        "\n",
        "print(\"train dataset\")\n",
        "print_MNIST_dataset_info(train_dataset)\n",
        "\n",
        "print(\"test dataset\")\n",
        "print_MNIST_dataset_info(test_dataset)"
      ],
      "metadata": {
        "id": "GhGg8sVVsQ3x",
        "colab": {
          "base_uri": "https://localhost:8080/"
        },
        "outputId": "6227a28f-5f3a-4401-ef4a-c33d4b6dd486"
      },
      "execution_count": null,
      "outputs": [
        {
          "output_type": "stream",
          "name": "stdout",
          "text": [
            "train dataset\n",
            ">>> dataset length:  60000\n",
            ">>> type of each data:  <class 'tuple'>\n",
            ">>> image shape:  torch.Size([1, 28, 28])\n",
            ">>> image dtype:  torch.float32\n",
            ">>> image pixel min-value:  tensor(0.)\n",
            ">>> image pixel max-value:  tensor(1.)\n",
            ">>> label data type:  <class 'int'>\n",
            "test dataset\n",
            ">>> dataset length:  10000\n",
            ">>> type of each data:  <class 'tuple'>\n",
            ">>> image shape:  torch.Size([1, 28, 28])\n",
            ">>> image dtype:  torch.float32\n",
            ">>> image pixel min-value:  tensor(0.)\n",
            ">>> image pixel max-value:  tensor(1.)\n",
            ">>> label data type:  <class 'int'>\n"
          ]
        }
      ]
    },
    {
      "cell_type": "markdown",
      "source": [
        "## MNIST DataLoader 정의\n",
        "\n",
        "[파이토치 데이터로더](https://pytorch.org/docs/stable/data.html#torch.utils.data.DataLoader)는 데이터셋을 배치단위로 묶어 순회(iteration)할 수 있도록 한다.\n",
        "\n",
        "아래 코드는 데이터셋에 대한 데이터로더를 만들고, 각 배치가 어떤 텐서 형태로 구성되어 있는지 확인하는 코드이다.\n",
        "* 데이터로더에서는 이미지들이 배치단위로 묶였기 때문에, B x C x H x W 모양(shape)의 텐서이며, 데이터타입(dtype)은 `torch.float32`가 되었음을 확인하자.\n",
        "* 데이터로더에서는 레이블들이 배치단위로 묶였기 때문에, B 모양(shape)의 텐서이며, 데이터타입(dtype)은 `torch.int64`가 되었음을 확인하자.\n",
        "\n",
        "train_dataset과 test_dataset은 동일 형태이므로, train_dataset의 데이터로더에 대해서만 확인하였다.\n"
      ],
      "metadata": {
        "id": "gzEPD6RYsp8D"
      }
    },
    {
      "cell_type": "code",
      "source": [
        "from torch.utils.data import DataLoader\n",
        "\n",
        "# dataloader 정의\n",
        "train_loader = DataLoader(dataset=train_dataset,\n",
        "                          batch_size=batch_size,\n",
        "                          shuffle=True)\n",
        "\n",
        "test_loader = DataLoader(dataset=test_dataset,\n",
        "                         batch_size=batch_size,\n",
        "                         shuffle=False)"
      ],
      "metadata": {
        "id": "7j-hTVWusrr5"
      },
      "execution_count": null,
      "outputs": []
    },
    {
      "cell_type": "code",
      "source": [
        "def print_MNIST_data_loader_info(data_loader):\n",
        "  print(\">>> dataset length: \", len(data_loader))\n",
        "  print(\">>> batch_size: \", data_loader.batch_size)\n",
        "  batch_images, batch_labels = next(iter(train_loader))\n",
        "  # batch size로 묶은 data 이미지의 형태 확인\n",
        "  print(\">>> batch_images type\", type(batch_images))\n",
        "  print(\">>> batch_images shape\", batch_images.shape)\n",
        "  print(\">>> batch_images dtype\", batch_images.dtype)\n",
        "\n",
        "print(\"train dataset\")\n",
        "print_MNIST_data_loader_info(train_loader)\n",
        "\n",
        "print(\"test dataset\")\n",
        "print_MNIST_data_loader_info(test_loader)"
      ],
      "metadata": {
        "id": "hyZbHkpvsuKq",
        "colab": {
          "base_uri": "https://localhost:8080/"
        },
        "outputId": "36b0add9-935f-429f-dd77-84824c18a3d6"
      },
      "execution_count": null,
      "outputs": [
        {
          "output_type": "stream",
          "name": "stdout",
          "text": [
            "train dataset\n",
            ">>> dataset length:  600\n",
            ">>> batch_size:  100\n",
            ">>> batch_images type <class 'torch.Tensor'>\n",
            ">>> batch_images shape torch.Size([100, 1, 28, 28])\n",
            ">>> batch_images dtype torch.float32\n",
            "test dataset\n",
            ">>> dataset length:  100\n",
            ">>> batch_size:  100\n",
            ">>> batch_images type <class 'torch.Tensor'>\n",
            ">>> batch_images shape torch.Size([100, 1, 28, 28])\n",
            ">>> batch_images dtype torch.float32\n"
          ]
        }
      ]
    },
    {
      "cell_type": "markdown",
      "source": [
        "### 첫번째 배치의 첫번째 이미지와 레이블 확인\n",
        "첫 이미지와 해당 레이블을 찍어서 확인해 보자.\n",
        "\n",
        "C x H x W 이미지 정보가 보관된 파이토치 텐서를 H x W x C 형태의 PIL 이미지로 변환시키는 편리한 방법은 `to_pil_images` 함수를 사용하는 것이다. 이 예제에서는 픽셀값이 [0.0, 1.0] 값으로 normalize되어 있으므로, `to_pil_images` 함수를 호출하면 [0, 255] 값으로 변환된다."
      ],
      "metadata": {
        "id": "hcAJJJM8tF8D"
      }
    },
    {
      "cell_type": "code",
      "source": [
        "from torchvision.transforms.functional import to_pil_image\n",
        "import matplotlib.pyplot as plt\n",
        "\n",
        "# 첫번째 이미지 한장에 대한 확인\n",
        "batch_images, batch_labels = next(iter(train_loader))\n",
        "\n",
        "img = batch_images[0]\n",
        "\n",
        "plt.figure()\n",
        "plt.imshow(to_pil_image(img), cmap='gray')"
      ],
      "metadata": {
        "colab": {
          "base_uri": "https://localhost:8080/",
          "height": 448
        },
        "id": "xvz906IKtD5Q",
        "outputId": "5eb2e06d-2d7a-4682-e09c-e97f6c36761e"
      },
      "execution_count": null,
      "outputs": [
        {
          "output_type": "execute_result",
          "data": {
            "text/plain": [
              "<matplotlib.image.AxesImage at 0x7b6ada7d7390>"
            ]
          },
          "metadata": {},
          "execution_count": 9
        },
        {
          "output_type": "display_data",
          "data": {
            "text/plain": [
              "<Figure size 640x480 with 1 Axes>"
            ],
            "image/png": "[encoded data removed]"
          },
          "metadata": {}
        }
      ]
    },
    {
      "cell_type": "markdown",
      "source": [
        "## 네트워크 모델 설계\n",
        "* 인코더 모델: `torch.nn.Sequential` 모듈로 모델로 설계\n",
        "  + InputLayer로 (1,28,28) 영상을 받고, Linear 레이어를 여럿 통과시킨 후, 출력으로 n_dim차원 벡터가 나오도록 함.\n",
        "* 디코더 모델: `torch.nn.Sequential` 모듈로 모델로 설계\n",
        "  + InputLayer에서 n_dim차원 벡터를 받고, Linear 레이어를 여럿 통과시킨 후, 출력으로 (1,28,28) 영상이 나오도록 함.\n",
        "* 오토인코더 모델: 인코더, 디코더를 결합하여 설계"
      ],
      "metadata": {
        "id": "ip5zUyQqtVCb"
      }
    },
    {
      "cell_type": "markdown",
      "source": [
        "잠재 벡터(latent vector) $z$의 크기 설정\n",
        "여기서는 n_dim을 우선 2로 설정한다.\n",
        "* 즉, n_dim=2"
      ],
      "metadata": {
        "id": "eJgoKLxWtgJ_"
      }
    },
    {
      "cell_type": "code",
      "source": [
        "n_dim = 2"
      ],
      "metadata": {
        "id": "fOy6U0rXtSGo"
      },
      "execution_count": null,
      "outputs": []
    },
    {
      "cell_type": "markdown",
      "source": [
        "인코더 모델 정의\n",
        "* (1, 28, 28) 영상을 입력으로 받도록 입력 레이어 정의\n",
        "* Flatten으로 입력 텐서를 784-vector로 벡터라이즈\n",
        "* Fully connected layer로 784 > 256 > 128 > 32 > n_dim 로 차원 축소"
      ],
      "metadata": {
        "id": "K0LXduMntl8x"
      }
    },
    {
      "cell_type": "code",
      "source": [
        "enc = nn.Sequential(\n",
        "  nn.Flatten(),    # 784 = 1 x 28 x 28\n",
        "  nn.Linear(784, 256),\n",
        "  nn.ReLU(),\n",
        "  nn.Linear(256, 128),\n",
        "  nn.ReLU(),\n",
        "  nn.Linear(128, 32),\n",
        "  nn.ReLU(),\n",
        "  nn.Linear(32, n_dim)\n",
        ")\n",
        "\n",
        "enc = enc.to(device)\n",
        "\n",
        "print(enc)"
      ],
      "metadata": {
        "id": "3KRjcpJmtrR-",
        "colab": {
          "base_uri": "https://localhost:8080/"
        },
        "outputId": "d5f58f0a-832f-4973-c63e-f75a6009d238"
      },
      "execution_count": null,
      "outputs": [
        {
          "output_type": "stream",
          "name": "stdout",
          "text": [
            "Sequential(\n",
            "  (0): Flatten(start_dim=1, end_dim=-1)\n",
            "  (1): Linear(in_features=784, out_features=256, bias=True)\n",
            "  (2): ReLU()\n",
            "  (3): Linear(in_features=256, out_features=128, bias=True)\n",
            "  (4): ReLU()\n",
            "  (5): Linear(in_features=128, out_features=32, bias=True)\n",
            "  (6): ReLU()\n",
            "  (7): Linear(in_features=32, out_features=2, bias=True)\n",
            ")\n"
          ]
        }
      ]
    },
    {
      "cell_type": "markdown",
      "source": [
        "디코더 모델 정의\n",
        "* Fully connected layey로 n_dim > 32 > 128 > 256 > 784로 차원 확대\n",
        "* 784-vector를 Reshape을 통해 (28, 28)의 텐서로 변환"
      ],
      "metadata": {
        "id": "BclAsvX2tvgQ"
      }
    },
    {
      "cell_type": "code",
      "source": [
        "dec = nn.Sequential(\n",
        "    nn.Linear(n_dim, 32),\n",
        "    nn.ReLU(),\n",
        "    nn.Linear(32, 256),\n",
        "    nn.ReLU(),\n",
        "    nn.Linear(256, 784),\n",
        "    nn.Unflatten(1, torch.Size([1, 28, 28])),\n",
        "    nn.Sigmoid(),\n",
        ")\n",
        "\n",
        "dec = dec.to(device)\n",
        "\n",
        "print(dec)"
      ],
      "metadata": {
        "id": "_PZuEhdDtr--",
        "colab": {
          "base_uri": "https://localhost:8080/"
        },
        "outputId": "0253eaff-69f6-4d54-b237-2466bafb9e3f"
      },
      "execution_count": null,
      "outputs": [
        {
          "output_type": "stream",
          "name": "stdout",
          "text": [
            "Sequential(\n",
            "  (0): Linear(in_features=2, out_features=32, bias=True)\n",
            "  (1): ReLU()\n",
            "  (2): Linear(in_features=32, out_features=256, bias=True)\n",
            "  (3): ReLU()\n",
            "  (4): Linear(in_features=256, out_features=784, bias=True)\n",
            "  (5): Unflatten(dim=1, unflattened_size=torch.Size([1, 28, 28]))\n",
            "  (6): Sigmoid()\n",
            ")\n"
          ]
        }
      ]
    },
    {
      "cell_type": "markdown",
      "source": [
        "AutoEncoder 모델 정의\n",
        "* (1, 28, 28) 영상을 입력으로 받도록 입력 레이어 정의\n",
        "* 입력 레이어 > 인코더 > 디코더로 구성\n",
        "* (1, 28, 28) 영상이 출력되로록 아웃풋 레이어 정의"
      ],
      "metadata": {
        "id": "4aGWhQcktufC"
      }
    },
    {
      "cell_type": "code",
      "source": [
        "ae = nn.Sequential(\n",
        "    enc,\n",
        "    dec,\n",
        ")\n",
        "\n",
        "ae = ae.to(device)\n",
        "\n",
        "print(ae)"
      ],
      "metadata": {
        "id": "lgXgRqn1t-UP",
        "colab": {
          "base_uri": "https://localhost:8080/"
        },
        "outputId": "78235f2f-8caa-48b2-8da8-d75991291db4"
      },
      "execution_count": null,
      "outputs": [
        {
          "output_type": "stream",
          "name": "stdout",
          "text": [
            "Sequential(\n",
            "  (0): Sequential(\n",
            "    (0): Flatten(start_dim=1, end_dim=-1)\n",
            "    (1): Linear(in_features=784, out_features=256, bias=True)\n",
            "    (2): ReLU()\n",
            "    (3): Linear(in_features=256, out_features=128, bias=True)\n",
            "    (4): ReLU()\n",
            "    (5): Linear(in_features=128, out_features=32, bias=True)\n",
            "    (6): ReLU()\n",
            "    (7): Linear(in_features=32, out_features=2, bias=True)\n",
            "  )\n",
            "  (1): Sequential(\n",
            "    (0): Linear(in_features=2, out_features=32, bias=True)\n",
            "    (1): ReLU()\n",
            "    (2): Linear(in_features=32, out_features=256, bias=True)\n",
            "    (3): ReLU()\n",
            "    (4): Linear(in_features=256, out_features=784, bias=True)\n",
            "    (5): Unflatten(dim=1, unflattened_size=torch.Size([1, 28, 28]))\n",
            "    (6): Sigmoid()\n",
            "  )\n",
            ")\n"
          ]
        }
      ]
    },
    {
      "cell_type": "markdown",
      "source": [
        "## 파라미터 초기화\n",
        "\n",
        "## TODO\n",
        "\n",
        "1. encoder, decoder 부분을 수정하여 `Xavier` 또는 `He Initialization`을 적용하여 파라미터를 초기화한 후 학습을 진행해본다. [Xavier, He initialization 설명](https://reniew.github.io/13/)\n",
        "  * 힌트: `nn.init()`모듈을 살펴본다.\n",
        "\n",
        "2. 결과에 대한 분석을 작성한다."
      ],
      "metadata": {
        "id": "igyZye2wuJmU"
      }
    },
    {
      "cell_type": "code",
      "source": [
        "import torch.nn as nn\n",
        "\n",
        "n_dim = 2\n",
        "class Encoder(nn.Module):\n",
        "    def __init__(self):\n",
        "        super().__init__()\n",
        "        self.enc = nn.Sequential(\n",
        "            nn.Flatten(),               # 784 = 1 x 28 x 28\n",
        "            nn.Linear(784, 256),\n",
        "            nn.ReLU(),\n",
        "            nn.Linear(256, 128),\n",
        "            nn.ReLU(),\n",
        "            nn.Linear(128, 32),\n",
        "            nn.ReLU(),\n",
        "            nn.Linear(32, n_dim)\n",
        "        )\n",
        "\n",
        "    def forward(self, x):\n",
        "        return self.enc(x)\n",
        "\n",
        "class Decoder(nn.Module):\n",
        "    def __init__(self):\n",
        "        super().__init__()\n",
        "        self.layers = nn.Sequential(\n",
        "          nn.Linear(n_dim, 32),\n",
        "          nn.ReLU(),\n",
        "          nn.Linear(32, 256),\n",
        "          nn.ReLU(),\n",
        "          nn.Linear(256, 784),\n",
        "          nn.Unflatten(1, torch.Size([1, 28, 28])),\n",
        "          nn.Sigmoid(),\n",
        "        )\n",
        "\n",
        "    def forward(self, z):\n",
        "        return self.layers(z)\n",
        "\n",
        "\n",
        "class AutoEncoder(nn.Module):\n",
        "    def __init__(self, encoder, decoder):\n",
        "        super().__init__()\n",
        "        self.encoder = encoder\n",
        "        self.decoder = decoder\n",
        "\n",
        "    def forward(self, x):\n",
        "        z = self.encoder(x)\n",
        "        out = self.decoder(z)\n",
        "        return out"
      ],
      "metadata": {
        "id": "1ow7a0kfXb6a"
      },
      "execution_count": null,
      "outputs": []
    },
    {
      "cell_type": "code",
      "source": [
        "## Xavier initialization 으로 파라미터 초기화\n",
        "def initialize_weights_xavier(m):\n",
        "  if isinstance(m, nn.Linear):\n",
        "      nn.init.xavier_uniform_(m.weight)\n",
        "      nn.init.constant_(m.bias, 0)\n",
        "\n",
        "def initialize_weights_xavier_n(m):\n",
        "  if isinstance(m, nn.Linear):\n",
        "      nn.init.xavier_normal_(m.weight)\n",
        "      nn.init.constant_(m.bias, 0)\n",
        "\n",
        "# weight 수집\n",
        "def get_weight_list(model):\n",
        "  weights_list = []\n",
        "  for layer in model.modules():\n",
        "    if isinstance(layer, nn.Linear):\n",
        "      weights = layer.weight.data.cpu().flatten().numpy()\n",
        "      weights_list.append(weights)\n",
        "  return weights_list\n",
        "\n",
        "# weight 시각화 함수\n",
        "def plot_weight_list(weights_list, title=\"Xavier Weights\"):\n",
        "    plt.figure(figsize=(len(weights_list) * 3, 4))\n",
        "    for i, weights in enumerate(weights_list):\n",
        "        plt.subplot(1, len(weights_list), i+1)\n",
        "        plt.hist(weights, bins=50, density=True)\n",
        "        plt.title(f\"Layer {i+1}\")\n",
        "        plt.xticks([])\n",
        "        plt.yticks([])\n",
        "    plt.suptitle(title)\n",
        "    plt.tight_layout()\n",
        "    plt.show()\n",
        "\n",
        "# 통계 출력 함수\n",
        "def print_weight_stats(weights_list):\n",
        "    for i, w in enumerate(weights_list):\n",
        "        print(f\"[Layer {i+1}] mean: {np.mean(w):.4f}, std: {np.std(w):.4f}, min: {np.min(w):.4f}, max: {np.max(w):.4f}\")\n",
        "\n",
        "# Xavier Uniform 초기화\n",
        "encoder_xavier_u = Encoder()\n",
        "encoder_xavier_u.apply(initialize_weights_xavier)\n",
        "\n",
        "weights_xavier_u = get_weight_list(encoder_xavier_u)\n",
        "plot_weight_list(weights_xavier_u, \"Xavier Initialization - Uniform\")\n",
        "print_weight_stats(weights_xavier_u)\n",
        "\n",
        "# Xavier Normal 초기화\n",
        "encoder_xavier_n = Encoder()\n",
        "encoder_xavier_n.apply(initialize_weights_xavier_n)\n",
        "\n",
        "weights_xavier_n = get_weight_list(encoder_xavier_n)\n",
        "plot_weight_list(weights_xavier_n, \"Xavier Initialization - Normal\")\n",
        "print_weight_stats(weights_xavier_n)"
      ],
      "metadata": {
        "id": "Az3JbDhGt_6F",
        "colab": {
          "base_uri": "https://localhost:8080/",
          "height": 721
        },
        "outputId": "60caa69b-6f80-4fc3-9109-557d078c9a82"
      },
      "execution_count": null,
      "outputs": [
        {
          "output_type": "display_data",
          "data": {
            "text/plain": [
              "<Figure size 1200x400 with 4 Axes>"
            ],
            "image/png": "[encoded data removed]"
          },
          "metadata": {}
        },
        {
          "output_type": "stream",
          "name": "stdout",
          "text": [
            "[Layer 1] mean: -0.0001, std: 0.0438, min: -0.0760, max: 0.0760\n",
            "[Layer 2] mean: 0.0004, std: 0.0722, min: -0.1250, max: 0.1250\n",
            "[Layer 3] mean: 0.0007, std: 0.1134, min: -0.1936, max: 0.1936\n",
            "[Layer 4] mean: -0.0193, std: 0.2424, min: -0.4118, max: 0.4199\n"
          ]
        },
        {
          "output_type": "display_data",
          "data": {
            "text/plain": [
              "<Figure size 1200x400 with 4 Axes>"
            ],
            "image/png": "[encoded data removed]"
          },
          "metadata": {}
        },
        {
          "output_type": "stream",
          "name": "stdout",
          "text": [
            "[Layer 1] mean: 0.0002, std: 0.0439, min: -0.1989, max: 0.1909\n",
            "[Layer 2] mean: -0.0001, std: 0.0716, min: -0.2908, max: 0.3504\n",
            "[Layer 3] mean: -0.0016, std: 0.1127, min: -0.5037, max: 0.3922\n",
            "[Layer 4] mean: -0.0348, std: 0.2433, min: -0.5622, max: 0.5411\n"
          ]
        }
      ]
    },
    {
      "cell_type": "code",
      "source": [
        "## He initialization 으로 파라미터 초기화 (relu에 적합)\n",
        "def initialize_weights_he(m):\n",
        "  if isinstance(m, nn.Linear):\n",
        "      nn.init.kaiming_uniform_(m.weight, nonlinearity = 'relu')\n",
        "      nn.init.constant_(m.bias, 0)\n",
        "\n",
        "def initialize_weights_he_n(m):\n",
        "  if isinstance(m, nn.Linear):\n",
        "      nn.init.kaiming_normal_(m.weight, nonlinearity = 'relu')\n",
        "      nn.init.constant_(m.bias, 0)\n",
        "\n",
        "# weight 수집\n",
        "def get_weight_list(model):\n",
        "  weights_list = []\n",
        "  for layer in model.modules():\n",
        "    if isinstance(layer, nn.Linear):\n",
        "      weights = layer.weight.data.cpu().flatten().numpy()\n",
        "      weights_list.append(weights)\n",
        "  return weights_list\n",
        "\n",
        "# weight 시각화 함수\n",
        "def plot_weight_list(weights_list, title=\"He Weights\"):\n",
        "    plt.figure(figsize=(len(weights_list) * 3, 4))\n",
        "    for i, weights in enumerate(weights_list):\n",
        "        plt.subplot(1, len(weights_list), i+1)\n",
        "        plt.hist(weights, bins=50, density=True)\n",
        "        plt.title(f\"Layer {i+1}\")\n",
        "        plt.xticks([])\n",
        "        plt.yticks([])\n",
        "    plt.suptitle(title)\n",
        "    plt.tight_layout()\n",
        "    plt.show()\n",
        "\n",
        "# 통계 출력 함수\n",
        "def print_weight_stats(weights_list):\n",
        "    for i, w in enumerate(weights_list):\n",
        "        print(f\"[Layer {i+1}] mean: {np.mean(w):.4f}, std: {np.std(w):.4f}, min: {np.min(w):.4f}, max: {np.max(w):.4f}\")\n",
        "\n",
        "# He Uniform 초기화\n",
        "encoder_he_u = Encoder()\n",
        "encoder_he_u.apply(initialize_weights_he)\n",
        "\n",
        "weights_he_u = get_weight_list(encoder_he_u)\n",
        "plot_weight_list(weights_he_u, \"He Initialization - Uniform\")\n",
        "print_weight_stats(weights_he_u)\n",
        "\n",
        "# He Normal 초기화\n",
        "encoder_he_n = Encoder()\n",
        "encoder_he_n.apply(initialize_weights_he_n)\n",
        "\n",
        "weights_he_n = get_weight_list(encoder_he_n)\n",
        "plot_weight_list(weights_he_n, \"He Initialization - Normal\")\n",
        "print_weight_stats(weights_he_n)"
      ],
      "metadata": {
        "colab": {
          "base_uri": "https://localhost:8080/",
          "height": 721
        },
        "id": "1jFkLdOlMTv2",
        "outputId": "03274afc-4420-4b68-9e84-4599fd231938"
      },
      "execution_count": null,
      "outputs": [
        {
          "output_type": "display_data",
          "data": {
            "text/plain": [
              "<Figure size 1200x400 with 4 Axes>"
            ],
            "image/png": "[encoded data removed]"
          },
          "metadata": {}
        },
        {
          "output_type": "stream",
          "name": "stdout",
          "text": [
            "[Layer 1] mean: 0.0001, std: 0.0505, min: -0.0875, max: 0.0875\n",
            "[Layer 2] mean: 0.0008, std: 0.0879, min: -0.1531, max: 0.1531\n",
            "[Layer 3] mean: -0.0031, std: 0.1252, min: -0.2165, max: 0.2164\n",
            "[Layer 4] mean: 0.0509, std: 0.2387, min: -0.4285, max: 0.4157\n"
          ]
        },
        {
          "output_type": "display_data",
          "data": {
            "text/plain": [
              "<Figure size 1200x400 with 4 Axes>"
            ],
            "image/png": "[encoded data removed]"
          },
          "metadata": {}
        },
        {
          "output_type": "stream",
          "name": "stdout",
          "text": [
            "[Layer 1] mean: -0.0000, std: 0.0504, min: -0.2179, max: 0.2179\n",
            "[Layer 2] mean: -0.0003, std: 0.0885, min: -0.3684, max: 0.3416\n",
            "[Layer 3] mean: -0.0017, std: 0.1253, min: -0.4540, max: 0.4535\n",
            "[Layer 4] mean: -0.0050, std: 0.2111, min: -0.4448, max: 0.4960\n"
          ]
        }
      ]
    },
    {
      "cell_type": "markdown",
      "source": [
        "## 네트워크 모델 구조 확인\n",
        "\n",
        "딥러닝 모델의 입출력 구조를 다음과 같이 확인한다.  여기서 중요한 사항은 다음을 확인하는 것이다.\n",
        "\n",
        "1. 레이어의 연결구조,  \n",
        "2. 레이어별 입출력 텐서의 차원,\n",
        "3. 학습할 파라메터 개수"
      ],
      "metadata": {
        "id": "EsSWuzRXuYni"
      }
    },
    {
      "cell_type": "code",
      "source": [
        "!pip install torchsummary"
      ],
      "metadata": {
        "id": "q9k0xmY_uL5V",
        "colab": {
          "base_uri": "https://localhost:8080/"
        },
        "outputId": "f0fda193-e99b-411a-8bcd-be6768dad153"
      },
      "execution_count": null,
      "outputs": [
        {
          "output_type": "stream",
          "name": "stdout",
          "text": [
            "Requirement already satisfied: torchsummary in /usr/local/lib/python3.11/dist-packages (1.5.1)\n"
          ]
        }
      ]
    },
    {
      "cell_type": "code",
      "source": [
        "#encoder에 he 초기화 적용\n",
        "encoder = encoder_he_u\n",
        "ae = AutoEncoder(encoder, dec)\n",
        "ae = ae.to(device)"
      ],
      "metadata": {
        "id": "m3ukL1HeoAqw"
      },
      "execution_count": null,
      "outputs": []
    },
    {
      "cell_type": "code",
      "source": [
        "from torchsummary import summary\n",
        "\n",
        "summary(ae, (1,28,28))"
      ],
      "metadata": {
        "id": "h9kHYqkauabM",
        "colab": {
          "base_uri": "https://localhost:8080/"
        },
        "outputId": "67ca45df-a3c8-4968-e9bd-27b54e4fc478"
      },
      "execution_count": null,
      "outputs": [
        {
          "output_type": "stream",
          "name": "stdout",
          "text": [
            "----------------------------------------------------------------\n",
            "        Layer (type)               Output Shape         Param #\n",
            "================================================================\n",
            "           Flatten-1                  [-1, 784]               0\n",
            "            Linear-2                  [-1, 256]         200,960\n",
            "              ReLU-3                  [-1, 256]               0\n",
            "            Linear-4                  [-1, 128]          32,896\n",
            "              ReLU-5                  [-1, 128]               0\n",
            "            Linear-6                   [-1, 32]           4,128\n",
            "              ReLU-7                   [-1, 32]               0\n",
            "            Linear-8                    [-1, 2]              66\n",
            "           Encoder-9                    [-1, 2]               0\n",
            "           Linear-10                   [-1, 32]              96\n",
            "             ReLU-11                   [-1, 32]               0\n",
            "           Linear-12                  [-1, 256]           8,448\n",
            "             ReLU-13                  [-1, 256]               0\n",
            "           Linear-14                  [-1, 784]         201,488\n",
            "        Unflatten-15            [-1, 1, 28, 28]               0\n",
            "          Sigmoid-16            [-1, 1, 28, 28]               0\n",
            "================================================================\n",
            "Total params: 448,082\n",
            "Trainable params: 448,082\n",
            "Non-trainable params: 0\n",
            "----------------------------------------------------------------\n",
            "Input size (MB): 0.00\n",
            "Forward/backward pass size (MB): 0.03\n",
            "Params size (MB): 1.71\n",
            "Estimated Total Size (MB): 1.75\n",
            "----------------------------------------------------------------\n"
          ]
        }
      ]
    },
    {
      "cell_type": "markdown",
      "source": [
        "## 훈련 전, 네트워크 모델을 함수로서 활용\n",
        "* AutoEncoder ae를 모델로 구성했기 때문에, 지금부터 함수로서 활용 가능\n",
        "  + 단, ae 함수는 batch 단위로 수행됨을 명심할 것.  \n",
        "    - 단순히, (1, 28, 28) -> ae -> (1, 28, 28)로 동작하지 않고,\n",
        "    - batch 단위로 (?, 1, 28, 28) -> ae -> (?, 1, 28, 28)로 병렬처리됨.\n",
        "* 지금은 훈련 전 네트웍이기 때문에 함수로서는 작동하지만 노이즈 출력만 나올 뿐, 정상적인 출력이 나오는 함수로 동작하지 않음."
      ],
      "metadata": {
        "id": "wYeXbPUsuhCc"
      }
    },
    {
      "cell_type": "code",
      "source": [
        "import matplotlib.pyplot as plt\n",
        "from torchvision.transforms.functional import to_pil_image\n",
        "import ipywidgets as widgets\n",
        "\n",
        "print(\"He 초기화 적용\")\n",
        "\n",
        "def train_dataset_imshow(idx):\n",
        "  (image, label) = train_dataset[idx]\n",
        "  print('GT label:', label)\n",
        "\n",
        "  X      = torch.unsqueeze(image, 0).to(device) # batch size = 1\n",
        "  Y_pred = ae(X)\n",
        "\n",
        "  input_img  = to_pil_image(X.squeeze())\n",
        "  output_img = to_pil_image(Y_pred.squeeze())\n",
        "\n",
        "  plt.subplot(121)\n",
        "  plt.imshow(input_img, cmap='gray')\n",
        "\n",
        "  plt.subplot(122)\n",
        "  plt.imshow(output_img, cmap='gray')\n",
        "\n",
        "  plt.show()\n",
        "\n",
        "widgets.interact(train_dataset_imshow, idx=widgets.IntSlider(min=0, max=len(train_dataset)-1, continuous_update=False))"
      ],
      "metadata": {
        "colab": {
          "base_uri": "https://localhost:8080/",
          "height": 443,
          "referenced_widgets": [
            "592342e15e454504a116b2917950d199",
            "a523b664e42b4a36b8ba5462d3886132",
            "a419b1a120bc413d8725390f43cc5d25",
            "db63dea9e4c046689a364bf4e9990f0a",
            "08e8987d1cf64cb1bf43fb5ffb67842d",
            "437f991ce488443aaa122d6a3541a1fa",
            "674e663607234694a745682c621d5c59"
          ]
        },
        "id": "MRInZO2kpiT9",
        "outputId": "58e4e111-1f4c-4761-f9b5-7885bb487516"
      },
      "execution_count": null,
      "outputs": [
        {
          "output_type": "stream",
          "name": "stdout",
          "text": [
            "He 초기화 적용\n"
          ]
        },
        {
          "output_type": "display_data",
          "data": {
            "text/plain": [
              "interactive(children=(IntSlider(value=0, continuous_update=False, description='idx', max=59999), Output()), _d…"
            ],
            "application/vnd.jupyter.widget-view+json": {
              "version_major": 2,
              "version_minor": 0,
              "model_id": "592342e15e454504a116b2917950d199"
            }
          },
          "metadata": {}
        },
        {
          "output_type": "execute_result",
          "data": {
            "text/plain": [
              "<function __main__.train_dataset_imshow(idx)>"
            ],
            "text/html": [
              "<div style=\"max-width:800px; border: 1px solid var(--colab-border-color);\"><style>\n",
              "      pre.function-repr-contents {\n",
              "        overflow-x: auto;\n",
              "        padding: 8px 12px;\n",
              "        max-height: 500px;\n",
              "      }\n",
              "\n",
              "      pre.function-repr-contents.function-repr-contents-collapsed {\n",
              "        cursor: pointer;\n",
              "        max-height: 100px;\n",
              "      }\n",
              "    </style>\n",
              "    <pre style=\"white-space: initial; background:\n",
              "         var(--colab-secondary-surface-color); padding: 8px 12px;\n",
              "         border-bottom: 1px solid var(--colab-border-color);\"><b>train_dataset_imshow</b><br/>def train_dataset_imshow(idx)</pre><pre class=\"function-repr-contents function-repr-contents-collapsed\" style=\"\"><a class=\"filepath\" style=\"display:none\" href=\"#\">/content/&lt;ipython-input-20-9230207c4c64&gt;</a>&lt;no docstring&gt;</pre></div>"
            ]
          },
          "metadata": {},
          "execution_count": 20
        }
      ]
    },
    {
      "cell_type": "markdown",
      "source": [
        "## Optimizer, loss 함수 설정\n",
        "학습과정에서 사용할 optimizer, loss 함수를 설정한다.\n",
        "* [optim module](https://pytorch.org/docs/stable/optim.html) 참고<br/>\n",
        "optimizier 이론적 학습: [www](https://brunch.co.kr/@chris-song/50)<br/>\n",
        "optimizer: torch.optim 모듈 내의  함수들을 다음의 예약어로 쓸 수 있다.\n",
        "  + sgd = SGD\n",
        "  + rmsprop = RMSprop\n",
        "  + adagrad = Adagrad\n",
        "  + adadelta = Adadelta\n",
        "  + adam = Adam\n",
        "  + adamax = Adamax\n",
        "* [nn module](https://pytorch.org/docs/stable/nn.html) 참고 <br/>\n",
        "loss:  torch.nn 모듈 내의  함수들을 다음의 예약어로 쓸 수 있다.\n",
        "  + mse = MSELoss = mean_squared_error\n",
        "  + mae = L1Loss = mean_absolute_error\n",
        "  + kld = KLDivLoss = kullback_leibler_divergence\n",
        "  + crossentropy = CrossEntropyLoss"
      ],
      "metadata": {
        "id": "DkKs2Ayau8Gt"
      }
    },
    {
      "cell_type": "code",
      "source": [
        "# optimizer,loss 설정\n",
        "optimizer = torch.optim.Adam(ae.parameters(), lr=learning_rate)\n",
        "criterion = nn.MSELoss()"
      ],
      "metadata": {
        "id": "LEydWouUvBgf"
      },
      "execution_count": null,
      "outputs": []
    },
    {
      "cell_type": "markdown",
      "source": [
        "## 딥러닝 모델 학습\n",
        "\n",
        "pytorch에서는 tensorflow기반 코드와는 달리 `fit()` 함수를 직접 구현해야한다."
      ],
      "metadata": {
        "id": "LBz2QNDhvDEz"
      }
    },
    {
      "cell_type": "code",
      "source": [
        "def fit(data_loader, epochs):\n",
        "  for epoch in range(epochs):\n",
        "    now = time.time()\n",
        "    avg_loss = 0\n",
        "    total_batch = len(data_loader)\n",
        "\n",
        "    for i, (batch_images, batch_labels) in enumerate(data_loader):\n",
        "\n",
        "      X = batch_images.to(device)  # [-1, 1, 28, 28]\n",
        "\n",
        "      # forward 단계\n",
        "      # 1. input data를 모델에 통과시킵니다.\n",
        "      # 2. loss를 계산합니다.\n",
        "      Y_prediction = ae(X)\n",
        "      loss = criterion(Y_prediction, X)\n",
        "\n",
        "      # bacward 단계\n",
        "      # 1. backprop 단계를 실행하기 전에 변화도를 0으로 만듭니다.\n",
        "      # 2. 모델의 매개변수에 대한 손실의 변화도를 계산합니다.\n",
        "      # 3. step 함수를 호출하면 매개변수가 갱신됩니다.\n",
        "      optimizer.zero_grad()\n",
        "      loss.backward()\n",
        "      optimizer.step()\n",
        "\n",
        "      avg_loss += loss / total_batch\n",
        "\n",
        "    print(\"[Epoch: {:>4}] \\t loss = {:.4f} \\t time = {:.4f}\"\n",
        "          .format(epoch + 1, avg_loss.data, time.time()-now))\n",
        "\n",
        "  print(\"Learning Finished!\")"
      ],
      "metadata": {
        "id": "cul9YvbMvB6r"
      },
      "execution_count": null,
      "outputs": []
    },
    {
      "cell_type": "markdown",
      "source": [
        "fit 함수 실행"
      ],
      "metadata": {
        "id": "oqU3m5idvJjv"
      }
    },
    {
      "cell_type": "code",
      "source": [
        "fit(train_loader, num_epochs)"
      ],
      "metadata": {
        "id": "MZuhwTVhvHRL",
        "colab": {
          "base_uri": "https://localhost:8080/"
        },
        "outputId": "7207ea78-4473-4900-f85d-6e8d78764193"
      },
      "execution_count": null,
      "outputs": [
        {
          "output_type": "stream",
          "name": "stdout",
          "text": [
            "[Epoch:    1] \t loss = 0.0573 \t time = 20.9306\n",
            "[Epoch:    2] \t loss = 0.0467 \t time = 7.2716\n",
            "[Epoch:    3] \t loss = 0.0438 \t time = 7.5898\n",
            "[Epoch:    4] \t loss = 0.0421 \t time = 6.4502\n",
            "[Epoch:    5] \t loss = 0.0411 \t time = 7.3591\n",
            "[Epoch:    6] \t loss = 0.0401 \t time = 6.6489\n",
            "[Epoch:    7] \t loss = 0.0394 \t time = 7.1605\n",
            "[Epoch:    8] \t loss = 0.0390 \t time = 6.9996\n",
            "[Epoch:    9] \t loss = 0.0386 \t time = 6.8024\n",
            "[Epoch:   10] \t loss = 0.0381 \t time = 7.7439\n",
            "Learning Finished!\n"
          ]
        }
      ]
    },
    {
      "cell_type": "markdown",
      "source": [
        "### 트레이닝셋을 이용해 학습 후 결과 시각화\n",
        "학습이 끝난 autoencoder에 대해 train_dataset에 대한 결과 시각화"
      ],
      "metadata": {
        "id": "Tld9oewhvSDj"
      }
    },
    {
      "cell_type": "code",
      "source": [
        "import matplotlib.pyplot as plt\n",
        "from torchvision.transforms.functional import to_pil_image\n",
        "import ipywidgets as widgets\n",
        "\n",
        "def train_dataset_imshow(idx):\n",
        "  (image, label) = train_dataset[idx]\n",
        "  print('GT label:', label)\n",
        "\n",
        "  X = torch.unsqueeze(image, 0).to(device) # batch size = 1\n",
        "  Y_pred = ae(X)\n",
        "\n",
        "  input_img  = to_pil_image(X.squeeze())\n",
        "  output_img = to_pil_image(Y_pred.squeeze())\n",
        "\n",
        "  plt.subplot(121)\n",
        "  plt.imshow(input_img, cmap='gray')\n",
        "\n",
        "  plt.subplot(122)\n",
        "  plt.imshow(output_img, cmap='gray')\n",
        "\n",
        "  plt.show()\n",
        "\n",
        "widgets.interact(train_dataset_imshow, idx=widgets.IntSlider(min=0, max=len(train_dataset)-1, continuous_update=False))"
      ],
      "metadata": {
        "id": "p4Cr1m1rvL5J",
        "colab": {
          "base_uri": "https://localhost:8080/",
          "height": 424,
          "referenced_widgets": [
            "5c555278b01f46d68eea4ef492943fd8",
            "a3eabcd9b82f4d589ed3f36a4f282eb2",
            "f43e7d908304417d891a285d72823a94",
            "3c96e314118648cca4a5ccde888462ca",
            "50f9a23cdd4441ed90340cb16d8aabbd",
            "a39c6fb75a6d4f7da4c6d9d57c0c507d",
            "a792faa0c4824265af106e31182dc75d"
          ]
        },
        "outputId": "90fdb290-ab3c-456e-b743-0e25a3d37139"
      },
      "execution_count": null,
      "outputs": [
        {
          "output_type": "display_data",
          "data": {
            "text/plain": [
              "interactive(children=(IntSlider(value=0, continuous_update=False, description='idx', max=59999), Output()), _d…"
            ],
            "application/vnd.jupyter.widget-view+json": {
              "version_major": 2,
              "version_minor": 0,
              "model_id": "5c555278b01f46d68eea4ef492943fd8"
            }
          },
          "metadata": {}
        },
        {
          "output_type": "execute_result",
          "data": {
            "text/plain": [
              "<function __main__.train_dataset_imshow(idx)>"
            ],
            "text/html": [
              "<div style=\"max-width:800px; border: 1px solid var(--colab-border-color);\"><style>\n",
              "      pre.function-repr-contents {\n",
              "        overflow-x: auto;\n",
              "        padding: 8px 12px;\n",
              "        max-height: 500px;\n",
              "      }\n",
              "\n",
              "      pre.function-repr-contents.function-repr-contents-collapsed {\n",
              "        cursor: pointer;\n",
              "        max-height: 100px;\n",
              "      }\n",
              "    </style>\n",
              "    <pre style=\"white-space: initial; background:\n",
              "         var(--colab-secondary-surface-color); padding: 8px 12px;\n",
              "         border-bottom: 1px solid var(--colab-border-color);\"><b>train_dataset_imshow</b><br/>def train_dataset_imshow(idx)</pre><pre class=\"function-repr-contents function-repr-contents-collapsed\" style=\"\"><a class=\"filepath\" style=\"display:none\" href=\"#\">/content/&lt;ipython-input-24-f73b80f09998&gt;</a>&lt;no docstring&gt;</pre></div>"
            ]
          },
          "metadata": {},
          "execution_count": 24
        }
      ]
    },
    {
      "cell_type": "code",
      "source": [
        "import matplotlib.pyplot as plt\n",
        "from torchvision.transforms.functional import to_pil_image\n",
        "import ipywidgets as widgets\n",
        "\n",
        "def train_dataset_imshow(idx):\n",
        "  (image, label) = train_dataset[idx]\n",
        "  print('GT label:', label)\n",
        "\n",
        "  X = torch.unsqueeze(image, 0).to(device) # batch size = 1\n",
        "  Y_pred = ae(X)\n",
        "\n",
        "  input_img  = to_pil_image(X.squeeze())\n",
        "  output_img = to_pil_image(Y_pred.squeeze())\n",
        "\n",
        "  plt.subplot(121)\n",
        "  plt.imshow(input_img, cmap='gray')\n",
        "\n",
        "  plt.subplot(122)\n",
        "  plt.imshow(output_img, cmap='gray')\n",
        "\n",
        "  plt.show()\n",
        "\n",
        "widgets.interact(train_dataset_imshow, idx=widgets.IntSlider(min=0, max=len(train_dataset)-1, continuous_update=False))"
      ],
      "metadata": {
        "colab": {
          "base_uri": "https://localhost:8080/",
          "height": 424,
          "referenced_widgets": [
            "d24568e51cac4e4c9b0ed2fc73d63216",
            "cceff76600fa402fadd01ced1a816ac9",
            "73bbfacf59754e81aa5395f1e36a5b77",
            "4f2a0bf5baf24e86b61808310ad3ead1",
            "2b6d90a7c3a74ecaa67647cf7f64b467",
            "01cd922d007b4082b00ca6b64b166ca6",
            "f85aeab9519245a682a10c92f14c0813"
          ]
        },
        "id": "USjNBeynqWIL",
        "outputId": "b21f58ee-0f20-4357-b6ee-8c685abae75d"
      },
      "execution_count": null,
      "outputs": [
        {
          "output_type": "display_data",
          "data": {
            "text/plain": [
              "interactive(children=(IntSlider(value=0, continuous_update=False, description='idx', max=59999), Output()), _d…"
            ],
            "application/vnd.jupyter.widget-view+json": {
              "version_major": 2,
              "version_minor": 0,
              "model_id": "d24568e51cac4e4c9b0ed2fc73d63216"
            }
          },
          "metadata": {}
        },
        {
          "output_type": "execute_result",
          "data": {
            "text/plain": [
              "<function __main__.train_dataset_imshow(idx)>"
            ],
            "text/html": [
              "<div style=\"max-width:800px; border: 1px solid var(--colab-border-color);\"><style>\n",
              "      pre.function-repr-contents {\n",
              "        overflow-x: auto;\n",
              "        padding: 8px 12px;\n",
              "        max-height: 500px;\n",
              "      }\n",
              "\n",
              "      pre.function-repr-contents.function-repr-contents-collapsed {\n",
              "        cursor: pointer;\n",
              "        max-height: 100px;\n",
              "      }\n",
              "    </style>\n",
              "    <pre style=\"white-space: initial; background:\n",
              "         var(--colab-secondary-surface-color); padding: 8px 12px;\n",
              "         border-bottom: 1px solid var(--colab-border-color);\"><b>train_dataset_imshow</b><br/>def train_dataset_imshow(idx)</pre><pre class=\"function-repr-contents function-repr-contents-collapsed\" style=\"\"><a class=\"filepath\" style=\"display:none\" href=\"#\">/content/&lt;ipython-input-25-f73b80f09998&gt;</a>&lt;no docstring&gt;</pre></div>"
            ]
          },
          "metadata": {},
          "execution_count": 25
        }
      ]
    },
    {
      "cell_type": "markdown",
      "source": [
        "# 인코더 / 디코더 모델을 각각 따로 함수로서 활용하기\n",
        "오토인코더 네트웍 전체가 아닌 `enc()` 부분과 `dec()` 부분을 각각 수행할 수 있다.\n",
        "* 특정 예제에 대한 인코딩 결과와 디코딩 결과를 따로 확인한다."
      ],
      "metadata": {
        "id": "XSmbapAxvlGY"
      }
    },
    {
      "cell_type": "code",
      "source": [
        "import matplotlib.pyplot as plt\n",
        "from torchvision.transforms.functional import to_pil_image\n",
        "\n",
        "idx = 128\n",
        "\n",
        "(image, label) = test_dataset[idx]\n",
        "print('GT label:', label)\n",
        "\n",
        "### 아래에서 ae()가 사용되지 않고, enc()와 dec()가 사용되었음에 주목\n",
        "X      = torch.unsqueeze(image, 0).to(device) # batch size = 1\n",
        "z      = encoder(X)   # enc()만 사용해 입력 영상을 인코딩해 **latent code z**를 구함\n",
        "Y_pred = dec(z)   # dec()만 사용해 latent code z를 디코딩해 출력 영상 Y_pred를 구함\n",
        "\n",
        "print(\"latent code z: \", z)\n",
        "\n",
        "input_img  = to_pil_image(X.squeeze())\n",
        "output_img = to_pil_image(Y_pred.squeeze())\n",
        "\n",
        "plt.subplot(121)\n",
        "plt.imshow(input_img, cmap='gray')\n",
        "\n",
        "plt.subplot(122)\n",
        "plt.imshow(output_img, cmap='gray')"
      ],
      "metadata": {
        "id": "SHeONFLKvYs5",
        "colab": {
          "base_uri": "https://localhost:8080/",
          "height": 342
        },
        "outputId": "9976a205-6900-4da8-a4b0-82241b13f2a5"
      },
      "execution_count": null,
      "outputs": [
        {
          "output_type": "stream",
          "name": "stdout",
          "text": [
            "GT label: 8\n",
            "latent code z:  tensor([[-22.0160,   6.7381]], device='cuda:0', grad_fn=<AddmmBackward0>)\n"
          ]
        },
        {
          "output_type": "execute_result",
          "data": {
            "text/plain": [
              "<matplotlib.image.AxesImage at 0x7b6ad1f6eb10>"
            ]
          },
          "metadata": {},
          "execution_count": 26
        },
        {
          "output_type": "display_data",
          "data": {
            "text/plain": [
              "<Figure size 640x480 with 2 Axes>"
            ],
            "image/png": "[encoded data removed]"
          },
          "metadata": {}
        }
      ]
    },
    {
      "cell_type": "markdown",
      "source": [
        "인코딩 결과와 유사한 좌표값을 디코딩에 보내도 유사한 결과가 나옴을 확인"
      ],
      "metadata": {
        "id": "JjKms2oWvxUz"
      }
    },
    {
      "cell_type": "code",
      "source": [
        "import ipywidgets as widgets\n",
        "\n",
        "u=widgets.FloatSlider(min=-10.0, max=10.0, orientation='horizontal')\n",
        "v=widgets.FloatSlider(min=-10.0, max=10.0, orientation='vertical')\n",
        "\n",
        "ui = widgets.HBox([u,v])\n",
        "\n",
        "def z_test(u, v):\n",
        "  z_test = np.array([[u,v]])\n",
        "\n",
        "  print(z_test)\n",
        "\n",
        "  z_test = torch.FloatTensor(z_test).to(device)\n",
        "  img_gen = dec(z_test)\n",
        "\n",
        "  img_gen = to_pil_image(img_gen.squeeze())\n",
        "\n",
        "  plt.imshow(img_gen, cmap='gray')\n",
        "  plt.show()\n",
        "\n",
        "out = widgets.interactive_output(z_test, {'u': u, 'v': v})\n",
        "\n",
        "display(ui, out)"
      ],
      "metadata": {
        "id": "n8aQKM4MvyCg",
        "colab": {
          "base_uri": "https://localhost:8080/",
          "height": 448,
          "referenced_widgets": [
            "1a916047c57044b0a567e0879f501098",
            "7603b75d32864dbeb99c8626f340af3b",
            "562722bb327f4da5aa666215ee212be7",
            "eba722ebb28240e3b01566bf0bc3aaac",
            "4775e429a0f447ab8af0417e6e788258",
            "09fadfd037b748569841db772a3890ae",
            "e5ce7376b8c846dea843b124beb800f7",
            "f5cec622f8a64708b19de7d8af9a1683",
            "d72675e836e54cb59621cf8aba4b6f34",
            "1aca3f5f9cd44b978f46074f29cb4a04"
          ]
        },
        "outputId": "51436e37-023a-4fd3-8f9c-d2d3a576ca17"
      },
      "execution_count": null,
      "outputs": [
        {
          "output_type": "stream",
          "name": "stdout",
          "text": [
            "[[-0.2  0. ]]\n"
          ]
        },
        {
          "output_type": "display_data",
          "data": {
            "text/plain": [
              "<Figure size 640x480 with 1 Axes>"
            ],
            "image/png": "[encoded data removed]"
          },
          "metadata": {}
        }
      ]
    },
    {
      "cell_type": "markdown",
      "source": [
        "## TODO\n",
        "1. encoder를 거쳐 나온 representation z를 *GT label 별로 다른색*을 주어 **z의 분포를 가시화**한다.\n",
        "2. z의 분포를 보고 encoder가 label 별로 discriminative한 representation을 만들어내는지 여부를 확인한다.\n",
        "3. 만일 discriminative하지 않다면, autoencoder가 discriminative한 representation z를 학습하도록 z의 차원을 바꿔가면서 실험을 진행한다.\n",
        "4. 결과에 대한 분석을 작성한다.\n",
        "\n",
        "## 인코딩 결과 가시화\n",
        "오토인코더의 encoder가 만들어 내는 representation인 z 값을 가시화 한다."
      ],
      "metadata": {
        "id": "M6YoHHcywLqT"
      }
    },
    {
      "cell_type": "code",
      "source": [
        "# MNIST 데이터의 latent code 가시화\n",
        "import matplotlib.pyplot as plt\n",
        "\n",
        "# 10개의 color list를 만든다.\n",
        "colors = ['red', 'green', 'blue', 'orange', 'violet',\n",
        "          'khaki', 'pink', 'lightsalmon', 'darkseagreen', 'cyan']\n",
        "\n",
        "# 테스트셋의 whole batch에 대한 결과 확인을 위한 dataloader 정의\n",
        "whole_test_loader = DataLoader(dataset=test_dataset,\n",
        "                               batch_size=len(test_dataset),\n",
        "                               shuffle=False)\n",
        "whole_test_images, whole_test_labels = next(iter(whole_test_loader))\n",
        "\n",
        "whole_test_images = whole_test_images.to(device)\n",
        "whole_test_labels = whole_test_labels.to(device)\n",
        "\n",
        "## TODO: whole_train_images에 대한 인코딩 함수 enc()를 이용해 latent codes z 구하기\n",
        "with torch.no_grad():\n",
        "  z = encoder(whole_test_images)\n",
        "\n",
        "# z 배열을 레이블 조건을 이용해 슬라이싱\n",
        "\n",
        "# # TODO: 레이블 별로 다른 색을 이용해 가시화\n",
        "for label in range(10):\n",
        "  z_label = z[whole_test_labels==label]\n",
        "  print(z_label.shape)\n",
        "  plt.plot(z_label[:,0].detach().cpu().numpy(), z_label[:,1].detach().cpu().numpy(), marker = 'o', linestyle='', color = colors[label])"
      ],
      "metadata": {
        "id": "Mja-hYNdvzII",
        "colab": {
          "base_uri": "https://localhost:8080/",
          "height": 614
        },
        "outputId": "a4829c15-2e73-43c3-8e0f-013c3201937d"
      },
      "execution_count": null,
      "outputs": [
        {
          "output_type": "stream",
          "name": "stdout",
          "text": [
            "torch.Size([980, 2])\n",
            "torch.Size([1135, 2])\n",
            "torch.Size([1032, 2])\n",
            "torch.Size([1010, 2])\n",
            "torch.Size([982, 2])\n",
            "torch.Size([892, 2])\n",
            "torch.Size([958, 2])\n",
            "torch.Size([1028, 2])\n",
            "torch.Size([974, 2])\n",
            "torch.Size([1009, 2])\n"
          ]
        },
        {
          "output_type": "display_data",
          "data": {
            "text/plain": [
              "<Figure size 640x480 with 1 Axes>"
            ],
            "image/png": "[encoded data removed]"
          },
          "metadata": {}
        }
      ]
    },
    {
      "cell_type": "markdown",
      "source": [
        "## TODO: 디코더를 이용한 Generative Model 구성\n",
        "1. z 공간의 임의의 위치를 sampling한 후, 이를 decoder의 입력으로 주는 방식으로 generative model을 구축한다.\n",
        "2. 결과로 만들어지는 이미지는 어떤 특징을 가지고 있는지 분석한다."
      ],
      "metadata": {
        "id": "hWQmjUDpwhjg"
      }
    },
    {
      "cell_type": "code",
      "source": [
        "## TODO\n",
        "z = np.array([[-40, -20],\n",
        "              [0, 60],\n",
        "              [15, 0]\n",
        "             ])\n",
        "\n",
        "if use_cuda:\n",
        "  z = torch.FloatTensor(z)\n",
        "  z = z.to(device)\n",
        "  result = dec(z).cuda()\n",
        "else:\n",
        "  z = torch.FloatTensor(z)\n",
        "  result = dec(z)\n",
        "print(z.shape)\n",
        "print(result.shape)"
      ],
      "metadata": {
        "id": "aPqh5f8TwlMj",
        "colab": {
          "base_uri": "https://localhost:8080/"
        },
        "outputId": "08fac8bc-6030-4e85-e971-daa31cc094d7"
      },
      "execution_count": null,
      "outputs": [
        {
          "output_type": "stream",
          "name": "stdout",
          "text": [
            "torch.Size([3, 2])\n",
            "torch.Size([3, 1, 28, 28])\n"
          ]
        }
      ]
    },
    {
      "cell_type": "markdown",
      "source": [
        "결과 가시화"
      ],
      "metadata": {
        "id": "rIkun0TvwjYj"
      }
    },
    {
      "cell_type": "code",
      "source": [
        "## TODO\n",
        "\n",
        "# 로딩된 MNIST 데이터 가시화\n",
        "import matplotlib.pyplot as plt\n",
        "from torchvision.transforms.functional import to_pil_image\n",
        "\n",
        "#result[0 ~ 2]는 decoder로부터 생성된 이미지\n",
        "result_img_0 = to_pil_image(result[0].squeeze())\n",
        "result_img_1 = to_pil_image(result[1].squeeze())\n",
        "result_img_2 = to_pil_image(result[2].squeeze())\n",
        "\n",
        "plt.subplot(131)\n",
        "plt.imshow(result_img_0, cmap='gray')\n",
        "plt.subplot(132)\n",
        "plt.imshow(result_img_1, cmap='gray')\n",
        "plt.subplot(133)\n",
        "plt.imshow(result_img_2, cmap='gray')"
      ],
      "metadata": {
        "id": "1Pb9lmNlwo7W",
        "colab": {
          "base_uri": "https://localhost:8080/",
          "height": 227
        },
        "outputId": "e493ba64-2a55-4523-b2f2-ef38ccaa3b06"
      },
      "execution_count": null,
      "outputs": [
        {
          "output_type": "execute_result",
          "data": {
            "text/plain": [
              "<matplotlib.image.AxesImage at 0x7b6a96d3ad10>"
            ]
          },
          "metadata": {},
          "execution_count": 57
        },
        {
          "output_type": "display_data",
          "data": {
            "text/plain": [
              "<Figure size 640x480 with 3 Axes>"
            ],
            "image/png": "[encoded data removed]"
          },
          "metadata": {}
        }
      ]
    },
    {
      "cell_type": "markdown",
      "source": [
        "Decoder를 이용한 generative model을 구성하기 위해,\n",
        "2차원 latent space 상의 z 공간의 임의의 위치를 sampling, decoder의 입력으로 사용하였다.\n",
        "decoder를 통해 '7', '0', '3' 에 해당하는 이미지가 생성되었다.\n",
        "이미지는 MNIST 이미지와 같이 왜곡된 부분 없이 숫자로서의 형태 그대로 잘 복원되었다.\n"
      ],
      "metadata": {
        "id": "ImQd37F8qH3G"
      }
    }
  ]
}